{
 "cells": [
  {
   "cell_type": "markdown",
   "id": "b09cd2f1-f10c-4e26-8653-07fe54dfd938",
   "metadata": {},
   "source": [
    "# With PySpark we will transform the data.\n",
    "#### Importing Necessary Libraries and Initiating Spark"
   ]
  },
  {
   "cell_type": "code",
   "execution_count": 1,
   "id": "00072807-6a02-4c64-b688-0a77e55b7076",
   "metadata": {
    "execution": {
     "iopub.execute_input": "2022-12-12T14:22:19.606110Z",
     "iopub.status.busy": "2022-12-12T14:22:19.605647Z",
     "iopub.status.idle": "2022-12-12T14:23:03.644083Z",
     "shell.execute_reply": "2022-12-12T14:23:03.642815Z",
     "shell.execute_reply.started": "2022-12-12T14:22:19.606055Z"
    },
    "tags": []
   },
   "outputs": [
    {
     "data": {
      "application/vnd.jupyter.widget-view+json": {
       "model_id": "4a073f068fa64f399228116678a67ccb",
       "version_major": 2,
       "version_minor": 0
      },
      "text/plain": [
       "VBox()"
      ]
     },
     "metadata": {},
     "output_type": "display_data"
    },
    {
     "name": "stdout",
     "output_type": "stream",
     "text": [
      "Starting Spark application\n"
     ]
    },
    {
     "data": {
      "text/html": [
       "<table>\n",
       "<tr><th>ID</th><th>YARN Application ID</th><th>Kind</th><th>State</th><th>Spark UI</th><th>Driver log</th><th>Current session?</th></tr><tr><td>1</td><td>application_1670845557400_0003</td><td>pyspark</td><td>idle</td><td><a target=\"_blank\" href=\"http://ip-172-31-81-136.ec2.internal:20888/proxy/application_1670845557400_0003/\">Link</a></td><td><a target=\"_blank\" href=\"http://ip-172-31-81-136.ec2.internal:8042/node/containerlogs/container_1670845557400_0003_01_000001/livy\">Link</a></td><td>✔</td></tr></table>"
      ],
      "text/plain": [
       "<IPython.core.display.HTML object>"
      ]
     },
     "metadata": {},
     "output_type": "display_data"
    },
    {
     "data": {
      "application/vnd.jupyter.widget-view+json": {
       "model_id": "",
       "version_major": 2,
       "version_minor": 0
      },
      "text/plain": [
       "FloatProgress(value=0.0, bar_style='info', description='Progress:', layout=Layout(height='25px', width='50%'),…"
      ]
     },
     "metadata": {},
     "output_type": "display_data"
    },
    {
     "name": "stdout",
     "output_type": "stream",
     "text": [
      "SparkSession available as 'spark'.\n"
     ]
    },
    {
     "data": {
      "application/vnd.jupyter.widget-view+json": {
       "model_id": "",
       "version_major": 2,
       "version_minor": 0
      },
      "text/plain": [
       "FloatProgress(value=0.0, bar_style='info', description='Progress:', layout=Layout(height='25px', width='50%'),…"
      ]
     },
     "metadata": {},
     "output_type": "display_data"
    }
   ],
   "source": [
    "import os\n",
    "import sys\n",
    "os.environ[\"PYSPARK_PYTHON\"] = \"/opt/cloudera/parcels/Anaconda/bin/python\"\n",
    "os.environ[\"JAVA_HOME\"] = \"/usr/java/jdk1.8.0_232-cloudera/jre\"\n",
    "os.environ[\"SPARK_HOME\"]=\"/opt/cloudera/parcels/SPARK2-2.3.0.cloudera2-1.cdh5.13.3.p0.316101/lib/spark2/\"\n",
    "os.environ[\"PYLIB\"] = os.environ[\"SPARK_HOME\"] + \"/python/lib\"\n",
    "sys.path.insert(0, os.environ[\"PYLIB\"] +\"/py4j-0.10.6-src.zip\")\n",
    "sys.path.insert(0, os.environ[\"PYLIB\"] +\"/pyspark.zip\")"
   ]
  },
  {
   "cell_type": "code",
   "execution_count": 2,
   "id": "d34e6f24-f52e-4d87-8d93-bc20a74e99da",
   "metadata": {
    "execution": {
     "iopub.execute_input": "2022-12-12T14:23:19.063554Z",
     "iopub.status.busy": "2022-12-12T14:23:19.063247Z",
     "iopub.status.idle": "2022-12-12T14:23:20.092916Z",
     "shell.execute_reply": "2022-12-12T14:23:20.092220Z",
     "shell.execute_reply.started": "2022-12-12T14:23:19.063526Z"
    }
   },
   "outputs": [
    {
     "data": {
      "application/vnd.jupyter.widget-view+json": {
       "model_id": "c6232a5d7c3c412e8169af81aa054299",
       "version_major": 2,
       "version_minor": 0
      },
      "text/plain": [
       "VBox()"
      ]
     },
     "metadata": {},
     "output_type": "display_data"
    },
    {
     "data": {
      "application/vnd.jupyter.widget-view+json": {
       "model_id": "",
       "version_major": 2,
       "version_minor": 0
      },
      "text/plain": [
       "FloatProgress(value=0.0, bar_style='info', description='Progress:', layout=Layout(height='25px', width='50%'),…"
      ]
     },
     "metadata": {},
     "output_type": "display_data"
    }
   ],
   "source": [
    "from pyspark.sql import SparkSession\n",
    "spark = SparkSession.builder.appName('demo').master(\"local\").getOrCreate()\n",
    "sc = spark.sparkContext"
   ]
  },
  {
   "cell_type": "markdown",
   "id": "451247ab-2471-4737-b983-1960b1677e5f",
   "metadata": {},
   "source": [
    "### Reading the file via Spark which we ingested through Sqoop.\n",
    "### We will infer existing schema to load data."
   ]
  },
  {
   "cell_type": "code",
   "execution_count": 3,
   "id": "a6df34e2-fff5-4df5-8447-9b941e87652d",
   "metadata": {
    "execution": {
     "iopub.execute_input": "2022-12-12T14:23:20.094493Z",
     "iopub.status.busy": "2022-12-12T14:23:20.094069Z",
     "iopub.status.idle": "2022-12-12T14:23:42.347400Z",
     "shell.execute_reply": "2022-12-12T14:23:42.346520Z",
     "shell.execute_reply.started": "2022-12-12T14:23:20.094466Z"
    },
    "tags": []
   },
   "outputs": [
    {
     "data": {
      "application/vnd.jupyter.widget-view+json": {
       "model_id": "6d2f5c4c6df6475aa9d7c1739aa6bba0",
       "version_major": 2,
       "version_minor": 0
      },
      "text/plain": [
       "VBox()"
      ]
     },
     "metadata": {},
     "output_type": "display_data"
    },
    {
     "data": {
      "application/vnd.jupyter.widget-view+json": {
       "model_id": "",
       "version_major": 2,
       "version_minor": 0
      },
      "text/plain": [
       "FloatProgress(value=0.0, bar_style='info', description='Progress:', layout=Layout(height='25px', width='50%'),…"
      ]
     },
     "metadata": {},
     "output_type": "display_data"
    }
   ],
   "source": [
    "df = spark.read.csv(\"/user/root/ETL_Spar_ATM/part-m-00000\", header = False, inferSchema = True)"
   ]
  },
  {
   "cell_type": "markdown",
   "id": "22411c69-5991-46be-bdda-101c1762bb74",
   "metadata": {},
   "source": [
    "#### Checking data"
   ]
  },
  {
   "cell_type": "code",
   "execution_count": 4,
   "id": "5ec1ea4a-f423-4b6d-8de6-4ea0178a3099",
   "metadata": {
    "execution": {
     "iopub.execute_input": "2022-12-12T14:23:42.358176Z",
     "iopub.status.busy": "2022-12-12T14:23:42.351488Z",
     "iopub.status.idle": "2022-12-12T14:23:43.859102Z",
     "shell.execute_reply": "2022-12-12T14:23:43.857975Z",
     "shell.execute_reply.started": "2022-12-12T14:23:42.358130Z"
    },
    "tags": []
   },
   "outputs": [
    {
     "data": {
      "application/vnd.jupyter.widget-view+json": {
       "model_id": "dbc97a3b0ae847c8a3fa0b798efe555f",
       "version_major": 2,
       "version_minor": 0
      },
      "text/plain": [
       "VBox()"
      ]
     },
     "metadata": {},
     "output_type": "display_data"
    },
    {
     "data": {
      "application/vnd.jupyter.widget-view+json": {
       "model_id": "",
       "version_major": 2,
       "version_minor": 0
      },
      "text/plain": [
       "FloatProgress(value=0.0, bar_style='info', description='Progress:', layout=Layout(height='25px', width='50%'),…"
      ]
     },
     "metadata": {},
     "output_type": "display_data"
    },
    {
     "name": "stdout",
     "output_type": "stream",
     "text": [
      "+----+-------+---+------+---+--------+---+---+----------+-----------+----+----+------+------+----+----------+----+----------+----+----+------+------+-------+--------------+------+----+----+----+----+-----+----+----+----+----------+\n",
      "| _c0|    _c1|_c2|   _c3|_c4|     _c5|_c6|_c7|       _c8|        _c9|_c10|_c11|  _c12|  _c13|_c14|      _c15|_c16|      _c17|_c18|_c19|  _c20|  _c21|   _c22|          _c23|  _c24|_c25|_c26|_c27|_c28| _c29|_c30|_c31|_c32|      _c33|\n",
      "+----+-------+---+------+---+--------+---+---+----------+-----------+----+----+------+------+----+----------+----+----------+----+----+------+------+-------+--------------+------+----+----+----+----+-----+----+----+----+----------+\n",
      "|2017|January|  1|Sunday|  0|  Active|  1|NCR|NÃƒÂ¦stved|Farimagsvej|   8|4700|55.233|11.763| DKK|MasterCard|5643|Withdrawal|null|null| 55.23|11.761|2616038|      Naestved|281.15|1014|  87|   7| 260|0.215|  92| 500|Rain|light rain|\n",
      "|2017|January|  1|Sunday|  0|Inactive|  2|NCR|  Vejgaard| Hadsundvej|  20|9000|57.043|  9.95| DKK|MasterCard|1764|Withdrawal|null|null|57.048| 9.935|2616235|NÃƒÂ¸rresundby|280.64|1020|  93|   9| 250| 0.59|  92| 500|Rain|light rain|\n",
      "+----+-------+---+------+---+--------+---+---+----------+-----------+----+----+------+------+----+----------+----+----------+----+----+------+------+-------+--------------+------+----+----+----+----+-----+----+----+----+----------+\n",
      "only showing top 2 rows"
     ]
    }
   ],
   "source": [
    "df.show(2)"
   ]
  },
  {
   "cell_type": "markdown",
   "id": "92afae19-11e7-4061-9d53-74214bf94db5",
   "metadata": {},
   "source": [
    "#### Change Dataset Schema using StructType"
   ]
  },
  {
   "cell_type": "code",
   "execution_count": 5,
   "id": "9601ae3e-4e97-40c7-836d-7c0b15c6aff6",
   "metadata": {
    "execution": {
     "iopub.execute_input": "2022-12-12T14:23:43.865268Z",
     "iopub.status.busy": "2022-12-12T14:23:43.864499Z",
     "iopub.status.idle": "2022-12-12T14:23:44.182851Z",
     "shell.execute_reply": "2022-12-12T14:23:44.181816Z",
     "shell.execute_reply.started": "2022-12-12T14:23:43.865222Z"
    },
    "tags": []
   },
   "outputs": [
    {
     "data": {
      "application/vnd.jupyter.widget-view+json": {
       "model_id": "026a0748ee6a44f29c6dc4fe88c4453a",
       "version_major": 2,
       "version_minor": 0
      },
      "text/plain": [
       "VBox()"
      ]
     },
     "metadata": {},
     "output_type": "display_data"
    },
    {
     "data": {
      "application/vnd.jupyter.widget-view+json": {
       "model_id": "",
       "version_major": 2,
       "version_minor": 0
      },
      "text/plain": [
       "FloatProgress(value=0.0, bar_style='info', description='Progress:', layout=Layout(height='25px', width='50%'),…"
      ]
     },
     "metadata": {},
     "output_type": "display_data"
    }
   ],
   "source": [
    "# Importing required modules and libraries\n",
    "from pyspark.sql.types import StructType, StructField, IntegerType, StringType, BooleanType, DoubleType, LongType"
   ]
  },
  {
   "cell_type": "markdown",
   "id": "a7846de8-6475-4ce3-884c-0918ff7684a6",
   "metadata": {},
   "source": [
    "#### Let's create our own Schema for our dataset"
   ]
  },
  {
   "cell_type": "code",
   "execution_count": 6,
   "id": "de020963-20f8-4b47-a6b0-6b92ac9dee06",
   "metadata": {
    "execution": {
     "iopub.execute_input": "2022-12-12T14:23:44.195524Z",
     "iopub.status.busy": "2022-12-12T14:23:44.193256Z",
     "iopub.status.idle": "2022-12-12T14:23:44.447000Z",
     "shell.execute_reply": "2022-12-12T14:23:44.446200Z",
     "shell.execute_reply.started": "2022-12-12T14:23:44.195468Z"
    },
    "tags": []
   },
   "outputs": [
    {
     "data": {
      "application/vnd.jupyter.widget-view+json": {
       "model_id": "2610e31fee614afe8a9cf1c043f1eff5",
       "version_major": 2,
       "version_minor": 0
      },
      "text/plain": [
       "VBox()"
      ]
     },
     "metadata": {},
     "output_type": "display_data"
    },
    {
     "data": {
      "application/vnd.jupyter.widget-view+json": {
       "model_id": "",
       "version_major": 2,
       "version_minor": 0
      },
      "text/plain": [
       "FloatProgress(value=0.0, bar_style='info', description='Progress:', layout=Layout(height='25px', width='50%'),…"
      ]
     },
     "metadata": {},
     "output_type": "display_data"
    }
   ],
   "source": [
    "Schema = StructType([StructField('year', IntegerType(), nullable = True),\n",
    "                        StructField('month', StringType(), True),\n",
    "                        StructField('day', IntegerType(), True),\n",
    "                        StructField('weekday', StringType(), True),\n",
    "                        StructField('hour', IntegerType(), True),\n",
    "                        StructField('atm_status', StringType(), True),\n",
    "                        StructField('atm_id', StringType(), True),\n",
    "                        StructField('atm_manufacturer', StringType(), True),\n",
    "                        StructField('atm_location', StringType(), True),\n",
    "                        StructField('atm_streetname', StringType(), True),\n",
    "                        StructField('atm_street_number', IntegerType(), True),\n",
    "                        StructField('atm_zipcode', IntegerType(), True),\n",
    "                        StructField('atm_lat', DoubleType(), True),\n",
    "                        StructField('atm_lon', DoubleType(), True),\n",
    "                        StructField('currency', StringType(), True),\n",
    "                        StructField('card_type', StringType(), True),\n",
    "                        StructField('transaction_amount', IntegerType(), True),\n",
    "                        StructField('service', StringType(), True),\n",
    "                        StructField('message_code', StringType(), True),\n",
    "                        StructField('message_text', StringType(), True),\n",
    "                        StructField('weather_lat', DoubleType(), True),\n",
    "                        StructField('weather_lon', DoubleType(), True),\n",
    "                        StructField('weather_city_id', IntegerType(), True),\n",
    "                        StructField('weather_city_name', StringType(), True),\n",
    "                        StructField('temp', DoubleType(), True),\n",
    "                        StructField('pressure', IntegerType(), True),\n",
    "                        StructField('humidity', IntegerType(), True),\n",
    "                        StructField('wind_speed', IntegerType(), True),\n",
    "                        StructField('wind_deg', IntegerType(), True),\n",
    "                        StructField('rain_3h', DoubleType(), True),\n",
    "                        StructField('clouds_all', IntegerType(), True),\n",
    "                        StructField('weather_id', IntegerType(), True),\n",
    "                        StructField('weather_main', StringType(), True),\n",
    "                        StructField('weather_description', StringType(), True)])"
   ]
  },
  {
   "cell_type": "markdown",
   "id": "656bbe38-8a01-4426-bca7-76d13d659335",
   "metadata": {},
   "source": [
    "#### Now Let's infer created schema on our dataset"
   ]
  },
  {
   "cell_type": "code",
   "execution_count": 7,
   "id": "9da947a0-9b03-4baf-b2bf-15d64ab8175e",
   "metadata": {
    "execution": {
     "iopub.execute_input": "2022-12-12T14:23:44.458312Z",
     "iopub.status.busy": "2022-12-12T14:23:44.455702Z",
     "iopub.status.idle": "2022-12-12T14:23:44.771071Z",
     "shell.execute_reply": "2022-12-12T14:23:44.767856Z",
     "shell.execute_reply.started": "2022-12-12T14:23:44.458248Z"
    },
    "tags": []
   },
   "outputs": [
    {
     "data": {
      "application/vnd.jupyter.widget-view+json": {
       "model_id": "2339bcc4e5c146fda28191760c728c35",
       "version_major": 2,
       "version_minor": 0
      },
      "text/plain": [
       "VBox()"
      ]
     },
     "metadata": {},
     "output_type": "display_data"
    },
    {
     "data": {
      "application/vnd.jupyter.widget-view+json": {
       "model_id": "",
       "version_major": 2,
       "version_minor": 0
      },
      "text/plain": [
       "FloatProgress(value=0.0, bar_style='info', description='Progress:', layout=Layout(height='25px', width='50%'),…"
      ]
     },
     "metadata": {},
     "output_type": "display_data"
    }
   ],
   "source": [
    "df = spark.read.csv(\"/user/root/ETL_Spar_ATM/part-m-00000\", header = False, schema = Schema)"
   ]
  },
  {
   "cell_type": "code",
   "execution_count": 8,
   "id": "59aaa340-bc8f-43db-a774-2a2a64f1108f",
   "metadata": {
    "execution": {
     "iopub.execute_input": "2022-12-12T14:23:44.783630Z",
     "iopub.status.busy": "2022-12-12T14:23:44.780100Z",
     "iopub.status.idle": "2022-12-12T14:23:53.017765Z",
     "shell.execute_reply": "2022-12-12T14:23:52.944240Z",
     "shell.execute_reply.started": "2022-12-12T14:23:44.783591Z"
    },
    "tags": []
   },
   "outputs": [
    {
     "data": {
      "application/vnd.jupyter.widget-view+json": {
       "model_id": "0a0ba04203b146a18d054fe701535857",
       "version_major": 2,
       "version_minor": 0
      },
      "text/plain": [
       "VBox()"
      ]
     },
     "metadata": {},
     "output_type": "display_data"
    },
    {
     "data": {
      "application/vnd.jupyter.widget-view+json": {
       "model_id": "",
       "version_major": 2,
       "version_minor": 0
      },
      "text/plain": [
       "FloatProgress(value=0.0, bar_style='info', description='Progress:', layout=Layout(height='25px', width='50%'),…"
      ]
     },
     "metadata": {},
     "output_type": "display_data"
    },
    {
     "name": "stdout",
     "output_type": "stream",
     "text": [
      "2468572"
     ]
    }
   ],
   "source": [
    "# Check records\n",
    "df.select('*').count()"
   ]
  },
  {
   "cell_type": "markdown",
   "id": "db9a77a7-058e-406f-ba59-c24171901a4d",
   "metadata": {},
   "source": [
    "#### Check created Schema"
   ]
  },
  {
   "cell_type": "code",
   "execution_count": 9,
   "id": "ff6d0da6-d423-46d2-9288-36f84d405e3a",
   "metadata": {
    "execution": {
     "iopub.execute_input": "2022-12-12T14:23:53.032064Z",
     "iopub.status.busy": "2022-12-12T14:23:53.024117Z",
     "iopub.status.idle": "2022-12-12T14:23:53.833846Z",
     "shell.execute_reply": "2022-12-12T14:23:53.833089Z",
     "shell.execute_reply.started": "2022-12-12T14:23:53.032015Z"
    },
    "tags": []
   },
   "outputs": [
    {
     "data": {
      "application/vnd.jupyter.widget-view+json": {
       "model_id": "9f5b2285b37342c3bcb558c18ee14c2a",
       "version_major": 2,
       "version_minor": 0
      },
      "text/plain": [
       "VBox()"
      ]
     },
     "metadata": {},
     "output_type": "display_data"
    },
    {
     "data": {
      "application/vnd.jupyter.widget-view+json": {
       "model_id": "",
       "version_major": 2,
       "version_minor": 0
      },
      "text/plain": [
       "FloatProgress(value=0.0, bar_style='info', description='Progress:', layout=Layout(height='25px', width='50%'),…"
      ]
     },
     "metadata": {},
     "output_type": "display_data"
    },
    {
     "name": "stdout",
     "output_type": "stream",
     "text": [
      "root\n",
      " |-- year: integer (nullable = true)\n",
      " |-- month: string (nullable = true)\n",
      " |-- day: integer (nullable = true)\n",
      " |-- weekday: string (nullable = true)\n",
      " |-- hour: integer (nullable = true)\n",
      " |-- atm_status: string (nullable = true)\n",
      " |-- atm_id: string (nullable = true)\n",
      " |-- atm_manufacturer: string (nullable = true)\n",
      " |-- atm_location: string (nullable = true)\n",
      " |-- atm_streetname: string (nullable = true)\n",
      " |-- atm_street_number: integer (nullable = true)\n",
      " |-- atm_zipcode: integer (nullable = true)\n",
      " |-- atm_lat: double (nullable = true)\n",
      " |-- atm_lon: double (nullable = true)\n",
      " |-- currency: string (nullable = true)\n",
      " |-- card_type: string (nullable = true)\n",
      " |-- transaction_amount: integer (nullable = true)\n",
      " |-- service: string (nullable = true)\n",
      " |-- message_code: string (nullable = true)\n",
      " |-- message_text: string (nullable = true)\n",
      " |-- weather_lat: double (nullable = true)\n",
      " |-- weather_lon: double (nullable = true)\n",
      " |-- weather_city_id: integer (nullable = true)\n",
      " |-- weather_city_name: string (nullable = true)\n",
      " |-- temp: double (nullable = true)\n",
      " |-- pressure: integer (nullable = true)\n",
      " |-- humidity: integer (nullable = true)\n",
      " |-- wind_speed: integer (nullable = true)\n",
      " |-- wind_deg: integer (nullable = true)\n",
      " |-- rain_3h: double (nullable = true)\n",
      " |-- clouds_all: integer (nullable = true)\n",
      " |-- weather_id: integer (nullable = true)\n",
      " |-- weather_main: string (nullable = true)\n",
      " |-- weather_description: string (nullable = true)"
     ]
    }
   ],
   "source": [
    "df.printSchema()"
   ]
  },
  {
   "cell_type": "code",
   "execution_count": 10,
   "id": "64767ff0-3d97-4b20-a05f-cd632393e96c",
   "metadata": {
    "execution": {
     "iopub.execute_input": "2022-12-12T14:23:53.836848Z",
     "iopub.status.busy": "2022-12-12T14:23:53.836173Z",
     "iopub.status.idle": "2022-12-12T14:23:55.474793Z",
     "shell.execute_reply": "2022-12-12T14:23:55.473649Z",
     "shell.execute_reply.started": "2022-12-12T14:23:53.836805Z"
    },
    "tags": []
   },
   "outputs": [
    {
     "data": {
      "application/vnd.jupyter.widget-view+json": {
       "model_id": "89ddb61d8fc1454396759898bfcb6917",
       "version_major": 2,
       "version_minor": 0
      },
      "text/plain": [
       "VBox()"
      ]
     },
     "metadata": {},
     "output_type": "display_data"
    },
    {
     "data": {
      "application/vnd.jupyter.widget-view+json": {
       "model_id": "",
       "version_major": 2,
       "version_minor": 0
      },
      "text/plain": [
       "FloatProgress(value=0.0, bar_style='info', description='Progress:', layout=Layout(height='25px', width='50%'),…"
      ]
     },
     "metadata": {},
     "output_type": "display_data"
    },
    {
     "name": "stdout",
     "output_type": "stream",
     "text": [
      "+----+-------+---+-------+----+----------+------+----------------+------------+--------------+-----------------+-----------+-------+-------+--------+----------+------------------+----------+------------+------------+-----------+-----------+---------------+-----------------+------+--------+--------+----------+--------+-------+----------+----------+------------+-------------------+\n",
      "|year|  month|day|weekday|hour|atm_status|atm_id|atm_manufacturer|atm_location|atm_streetname|atm_street_number|atm_zipcode|atm_lat|atm_lon|currency| card_type|transaction_amount|   service|message_code|message_text|weather_lat|weather_lon|weather_city_id|weather_city_name|  temp|pressure|humidity|wind_speed|wind_deg|rain_3h|clouds_all|weather_id|weather_main|weather_description|\n",
      "+----+-------+---+-------+----+----------+------+----------------+------------+--------------+-----------------+-----------+-------+-------+--------+----------+------------------+----------+------------+------------+-----------+-----------+---------------+-----------------+------+--------+--------+----------+--------+-------+----------+----------+------------+-------------------+\n",
      "|2017|January|  1| Sunday|   0|    Active|     1|             NCR|  NÃƒÂ¦stved|   Farimagsvej|                8|       4700| 55.233| 11.763|     DKK|MasterCard|              5643|Withdrawal|        null|        null|      55.23|     11.761|        2616038|         Naestved|281.15|    1014|      87|         7|     260|  0.215|        92|       500|        Rain|         light rain|\n",
      "+----+-------+---+-------+----+----------+------+----------------+------------+--------------+-----------------+-----------+-------+-------+--------+----------+------------------+----------+------------+------------+-----------+-----------+---------------+-----------------+------+--------+--------+----------+--------+-------+----------+----------+------------+-------------------+\n",
      "only showing top 1 row"
     ]
    }
   ],
   "source": [
    "df.show(1)"
   ]
  },
  {
   "cell_type": "code",
   "execution_count": 11,
   "id": "a1f65172-7e7a-4b49-a14f-de73edf170d5",
   "metadata": {
    "execution": {
     "iopub.execute_input": "2022-12-12T14:23:55.477258Z",
     "iopub.status.busy": "2022-12-12T14:23:55.476554Z",
     "iopub.status.idle": "2022-12-12T14:23:55.815468Z",
     "shell.execute_reply": "2022-12-12T14:23:55.814067Z",
     "shell.execute_reply.started": "2022-12-12T14:23:55.477215Z"
    },
    "tags": []
   },
   "outputs": [
    {
     "data": {
      "application/vnd.jupyter.widget-view+json": {
       "model_id": "9406f9a161974244b490d9360f7d7bb1",
       "version_major": 2,
       "version_minor": 0
      },
      "text/plain": [
       "VBox()"
      ]
     },
     "metadata": {},
     "output_type": "display_data"
    },
    {
     "data": {
      "application/vnd.jupyter.widget-view+json": {
       "model_id": "",
       "version_major": 2,
       "version_minor": 0
      },
      "text/plain": [
       "FloatProgress(value=0.0, bar_style='info', description='Progress:', layout=Layout(height='25px', width='50%'),…"
      ]
     },
     "metadata": {},
     "output_type": "display_data"
    },
    {
     "name": "stdout",
     "output_type": "stream",
     "text": [
      "['year', 'month', 'day', 'weekday', 'hour', 'atm_status', 'atm_id', 'atm_manufacturer', 'atm_location', 'atm_streetname', 'atm_street_number', 'atm_zipcode', 'atm_lat', 'atm_lon', 'currency', 'card_type', 'transaction_amount', 'service', 'message_code', 'message_text', 'weather_lat', 'weather_lon', 'weather_city_id', 'weather_city_name', 'temp', 'pressure', 'humidity', 'wind_speed', 'wind_deg', 'rain_3h', 'clouds_all', 'weather_id', 'weather_main', 'weather_description']"
     ]
    }
   ],
   "source": [
    "df.columns"
   ]
  },
  {
   "cell_type": "markdown",
   "id": "b39231ea-eb03-48c7-bded-983784dd6a22",
   "metadata": {},
   "source": [
    "# Now we need to create all dimension and Fact tables from this data "
   ]
  },
  {
   "cell_type": "markdown",
   "id": "aaa64741-3e29-4a59-88a5-19d240c88d8c",
   "metadata": {},
   "source": [
    "## Let's create Location Dimension Table"
   ]
  },
  {
   "cell_type": "code",
   "execution_count": 12,
   "id": "68b5d46a-0799-41c4-a63c-b57091f49d19",
   "metadata": {
    "execution": {
     "iopub.execute_input": "2022-12-12T14:23:55.817757Z",
     "iopub.status.busy": "2022-12-12T14:23:55.816885Z",
     "iopub.status.idle": "2022-12-12T14:23:56.158240Z",
     "shell.execute_reply": "2022-12-12T14:23:56.156813Z",
     "shell.execute_reply.started": "2022-12-12T14:23:55.817713Z"
    },
    "tags": []
   },
   "outputs": [
    {
     "data": {
      "application/vnd.jupyter.widget-view+json": {
       "model_id": "82184836f14c4caba7fcead97c185765",
       "version_major": 2,
       "version_minor": 0
      },
      "text/plain": [
       "VBox()"
      ]
     },
     "metadata": {},
     "output_type": "display_data"
    },
    {
     "data": {
      "application/vnd.jupyter.widget-view+json": {
       "model_id": "",
       "version_major": 2,
       "version_minor": 0
      },
      "text/plain": [
       "FloatProgress(value=0.0, bar_style='info', description='Progress:', layout=Layout(height='25px', width='50%'),…"
      ]
     },
     "metadata": {},
     "output_type": "display_data"
    }
   ],
   "source": [
    "# creating a location dataframe with distinct data\n",
    "location = df.select('atm_location', 'atm_streetname', 'atm_street_number', 'atm_zipcode', 'atm_lat', 'atm_lon').distinct()"
   ]
  },
  {
   "cell_type": "code",
   "execution_count": 13,
   "id": "1d2900a8-a2cf-48c4-9d03-dff513818eb7",
   "metadata": {
    "execution": {
     "iopub.execute_input": "2022-12-12T14:23:56.172718Z",
     "iopub.status.busy": "2022-12-12T14:23:56.171916Z",
     "iopub.status.idle": "2022-12-12T14:24:12.639550Z",
     "shell.execute_reply": "2022-12-12T14:24:12.638625Z",
     "shell.execute_reply.started": "2022-12-12T14:23:56.172669Z"
    },
    "tags": []
   },
   "outputs": [
    {
     "data": {
      "application/vnd.jupyter.widget-view+json": {
       "model_id": "ec5dc00a900a42b39b4e77d2c347ecac",
       "version_major": 2,
       "version_minor": 0
      },
      "text/plain": [
       "VBox()"
      ]
     },
     "metadata": {},
     "output_type": "display_data"
    },
    {
     "data": {
      "application/vnd.jupyter.widget-view+json": {
       "model_id": "",
       "version_major": 2,
       "version_minor": 0
      },
      "text/plain": [
       "FloatProgress(value=0.0, bar_style='info', description='Progress:', layout=Layout(height='25px', width='50%'),…"
      ]
     },
     "metadata": {},
     "output_type": "display_data"
    },
    {
     "name": "stdout",
     "output_type": "stream",
     "text": [
      "+----------------+-------------------+-----------------+-----------+-------+-------+-----------+\n",
      "|    atm_location|     atm_streetname|atm_street_number|atm_zipcode|atm_lat|atm_lon|location_id|\n",
      "+----------------+-------------------+-----------------+-----------+-------+-------+-----------+\n",
      "|         Kolding|           Vejlevej|              135|       6000| 55.505|  9.457|          0|\n",
      "|  Skelagervej 15|        Skelagervej|               15|       9000| 57.023|  9.891|          1|\n",
      "|Intern HolbÃƒÂ¦k|        Slotsvolden|                7|       4300| 55.718| 11.704|          2|\n",
      "|          Odense|       FÃƒÂ¦lledvej|                3|       5000| 55.394|  10.37|          3|\n",
      "|           Ikast|RÃƒÂ¥dhusstrÃƒÂ¦det|               12|       7430| 56.139|  9.154|          4|\n",
      "+----------------+-------------------+-----------------+-----------+-------+-------+-----------+\n",
      "only showing top 5 rows"
     ]
    }
   ],
   "source": [
    "from pyspark.sql.functions import *\n",
    "# Primary key\n",
    "df_temp = location.rdd.zipWithIndex().toDF()\n",
    "dim_location = df_temp.select(col(\"_1.*\"),col(\"_2\").alias('location_id'))\n",
    "dim_location.show(5)"
   ]
  },
  {
   "cell_type": "code",
   "execution_count": 14,
   "id": "e9fc8b50-0784-4727-8615-62c15364bcac",
   "metadata": {
    "execution": {
     "iopub.execute_input": "2022-12-12T14:24:12.640615Z",
     "iopub.status.busy": "2022-12-12T14:24:12.640391Z",
     "iopub.status.idle": "2022-12-12T14:24:13.613855Z",
     "shell.execute_reply": "2022-12-12T14:24:13.541576Z",
     "shell.execute_reply.started": "2022-12-12T14:24:12.640591Z"
    },
    "tags": []
   },
   "outputs": [
    {
     "data": {
      "application/vnd.jupyter.widget-view+json": {
       "model_id": "44cd400b1495424394d59085c2cdadf4",
       "version_major": 2,
       "version_minor": 0
      },
      "text/plain": [
       "VBox()"
      ]
     },
     "metadata": {},
     "output_type": "display_data"
    },
    {
     "data": {
      "application/vnd.jupyter.widget-view+json": {
       "model_id": "",
       "version_major": 2,
       "version_minor": 0
      },
      "text/plain": [
       "FloatProgress(value=0.0, bar_style='info', description='Progress:', layout=Layout(height='25px', width='50%'),…"
      ]
     },
     "metadata": {},
     "output_type": "display_data"
    }
   ],
   "source": [
    "# renaming the colums as per requirement and rearranging columns\n",
    "DIM_LOCATION = dim_location.withColumnRenamed('atm_location','location').withColumnRenamed('atm_streetname','streetname').withColumnRenamed('atm_street_number','street_number').withColumnRenamed('atm_zipcode','zipcode').withColumnRenamed('atm_lat','lat').withColumnRenamed('atm_lon','lon')\n",
    "DIM_LOCATION = DIM_LOCATION.select('location_id', 'location', 'streetname', 'street_number', 'zipcode', 'lat', 'lon')"
   ]
  },
  {
   "cell_type": "code",
   "execution_count": 15,
   "id": "ddf5da3a-81ce-4e1f-b078-3daa12ccab56",
   "metadata": {
    "execution": {
     "iopub.execute_input": "2022-12-12T14:24:13.615419Z",
     "iopub.status.busy": "2022-12-12T14:24:13.615068Z",
     "iopub.status.idle": "2022-12-12T14:24:14.560628Z",
     "shell.execute_reply": "2022-12-12T14:24:14.557135Z",
     "shell.execute_reply.started": "2022-12-12T14:24:13.615380Z"
    },
    "tags": []
   },
   "outputs": [
    {
     "data": {
      "application/vnd.jupyter.widget-view+json": {
       "model_id": "7401097257744f4890c81eede9a90d31",
       "version_major": 2,
       "version_minor": 0
      },
      "text/plain": [
       "VBox()"
      ]
     },
     "metadata": {},
     "output_type": "display_data"
    },
    {
     "data": {
      "application/vnd.jupyter.widget-view+json": {
       "model_id": "",
       "version_major": 2,
       "version_minor": 0
      },
      "text/plain": [
       "FloatProgress(value=0.0, bar_style='info', description='Progress:', layout=Layout(height='25px', width='50%'),…"
      ]
     },
     "metadata": {},
     "output_type": "display_data"
    },
    {
     "name": "stdout",
     "output_type": "stream",
     "text": [
      "['location_id', 'location', 'streetname', 'street_number', 'zipcode', 'lat', 'lon']"
     ]
    }
   ],
   "source": [
    "DIM_LOCATION.columns"
   ]
  },
  {
   "cell_type": "code",
   "execution_count": 16,
   "id": "7083340f-fa4d-43fa-b17e-e7bfb6dada5a",
   "metadata": {
    "execution": {
     "iopub.execute_input": "2022-12-12T14:24:14.629291Z",
     "iopub.status.busy": "2022-12-12T14:24:14.620157Z",
     "iopub.status.idle": "2022-12-12T14:24:16.449891Z",
     "shell.execute_reply": "2022-12-12T14:24:16.449029Z",
     "shell.execute_reply.started": "2022-12-12T14:24:14.629059Z"
    },
    "tags": []
   },
   "outputs": [
    {
     "data": {
      "application/vnd.jupyter.widget-view+json": {
       "model_id": "7ab0ba04ae9b4523830f610f5c9dd79f",
       "version_major": 2,
       "version_minor": 0
      },
      "text/plain": [
       "VBox()"
      ]
     },
     "metadata": {},
     "output_type": "display_data"
    },
    {
     "data": {
      "application/vnd.jupyter.widget-view+json": {
       "model_id": "",
       "version_major": 2,
       "version_minor": 0
      },
      "text/plain": [
       "FloatProgress(value=0.0, bar_style='info', description='Progress:', layout=Layout(height='25px', width='50%'),…"
      ]
     },
     "metadata": {},
     "output_type": "display_data"
    },
    {
     "name": "stdout",
     "output_type": "stream",
     "text": [
      "109"
     ]
    }
   ],
   "source": [
    "# validating the count of the dataframe\n",
    "DIM_LOCATION.select('*').count()"
   ]
  },
  {
   "cell_type": "markdown",
   "id": "1c6c10f3-4050-445d-8766-80f2ff146ed8",
   "metadata": {},
   "source": [
    "### Creating ATM Dimension "
   ]
  },
  {
   "cell_type": "code",
   "execution_count": 17,
   "id": "5c54bdbc-b8fb-497c-8084-6926b483dfd9",
   "metadata": {
    "execution": {
     "iopub.execute_input": "2022-12-12T14:24:16.453695Z",
     "iopub.status.busy": "2022-12-12T14:24:16.453424Z",
     "iopub.status.idle": "2022-12-12T14:24:16.894689Z",
     "shell.execute_reply": "2022-12-12T14:24:16.893948Z",
     "shell.execute_reply.started": "2022-12-12T14:24:16.453667Z"
    },
    "tags": []
   },
   "outputs": [
    {
     "data": {
      "application/vnd.jupyter.widget-view+json": {
       "model_id": "dad55178f11345c6b750f43323bca292",
       "version_major": 2,
       "version_minor": 0
      },
      "text/plain": [
       "VBox()"
      ]
     },
     "metadata": {},
     "output_type": "display_data"
    },
    {
     "data": {
      "application/vnd.jupyter.widget-view+json": {
       "model_id": "",
       "version_major": 2,
       "version_minor": 0
      },
      "text/plain": [
       "FloatProgress(value=0.0, bar_style='info', description='Progress:', layout=Layout(height='25px', width='50%'),…"
      ]
     },
     "metadata": {},
     "output_type": "display_data"
    }
   ],
   "source": [
    "# creating a temporary df and selecting required columns\n",
    "atm = df.select('atm_id', 'atm_manufacturer', 'atm_lat', 'atm_lon')"
   ]
  },
  {
   "cell_type": "code",
   "execution_count": 18,
   "id": "51aa1830-bc35-4827-a93f-1351dc202bc9",
   "metadata": {
    "execution": {
     "iopub.execute_input": "2022-12-12T14:24:16.899013Z",
     "iopub.status.busy": "2022-12-12T14:24:16.897485Z",
     "iopub.status.idle": "2022-12-12T14:24:17.070107Z",
     "shell.execute_reply": "2022-12-12T14:24:17.069333Z",
     "shell.execute_reply.started": "2022-12-12T14:24:16.898976Z"
    },
    "tags": []
   },
   "outputs": [
    {
     "data": {
      "application/vnd.jupyter.widget-view+json": {
       "model_id": "7ce291bfedb94fc1b37246fde0916739",
       "version_major": 2,
       "version_minor": 0
      },
      "text/plain": [
       "VBox()"
      ]
     },
     "metadata": {},
     "output_type": "display_data"
    },
    {
     "data": {
      "application/vnd.jupyter.widget-view+json": {
       "model_id": "",
       "version_major": 2,
       "version_minor": 0
      },
      "text/plain": [
       "FloatProgress(value=0.0, bar_style='info', description='Progress:', layout=Layout(height='25px', width='50%'),…"
      ]
     },
     "metadata": {},
     "output_type": "display_data"
    }
   ],
   "source": [
    "# renaming the column atm_id to atm_number as per requirement\n",
    "atm = atm.withColumnRenamed('atm_id', 'atm_number')"
   ]
  },
  {
   "cell_type": "code",
   "execution_count": 19,
   "id": "034ae5ef-c139-4f39-8a35-0c1ff83d83c1",
   "metadata": {
    "execution": {
     "iopub.execute_input": "2022-12-12T14:24:17.072147Z",
     "iopub.status.busy": "2022-12-12T14:24:17.071547Z",
     "iopub.status.idle": "2022-12-12T14:24:17.340827Z",
     "shell.execute_reply": "2022-12-12T14:24:17.340149Z",
     "shell.execute_reply.started": "2022-12-12T14:24:17.072115Z"
    },
    "tags": []
   },
   "outputs": [
    {
     "data": {
      "application/vnd.jupyter.widget-view+json": {
       "model_id": "7328bcb5790d4fdea5657ecfaf6c124e",
       "version_major": 2,
       "version_minor": 0
      },
      "text/plain": [
       "VBox()"
      ]
     },
     "metadata": {},
     "output_type": "display_data"
    },
    {
     "data": {
      "application/vnd.jupyter.widget-view+json": {
       "model_id": "",
       "version_major": 2,
       "version_minor": 0
      },
      "text/plain": [
       "FloatProgress(value=0.0, bar_style='info', description='Progress:', layout=Layout(height='25px', width='50%'),…"
      ]
     },
     "metadata": {},
     "output_type": "display_data"
    }
   ],
   "source": [
    "# joining the dim_location and atm dataframes\n",
    "atm = atm.join(dim_location, on = ['atm_lat', 'atm_lon'], how = \"left\")"
   ]
  },
  {
   "cell_type": "code",
   "execution_count": 20,
   "id": "3a95d558-80f2-41f5-a0df-bd52858c3de4",
   "metadata": {
    "execution": {
     "iopub.execute_input": "2022-12-12T14:24:17.344739Z",
     "iopub.status.busy": "2022-12-12T14:24:17.343520Z",
     "iopub.status.idle": "2022-12-12T14:24:17.953589Z",
     "shell.execute_reply": "2022-12-12T14:24:17.922721Z",
     "shell.execute_reply.started": "2022-12-12T14:24:17.344705Z"
    },
    "tags": []
   },
   "outputs": [
    {
     "data": {
      "application/vnd.jupyter.widget-view+json": {
       "model_id": "33601bec90e34c80891f105f9f6d8154",
       "version_major": 2,
       "version_minor": 0
      },
      "text/plain": [
       "VBox()"
      ]
     },
     "metadata": {},
     "output_type": "display_data"
    },
    {
     "data": {
      "application/vnd.jupyter.widget-view+json": {
       "model_id": "",
       "version_major": 2,
       "version_minor": 0
      },
      "text/plain": [
       "FloatProgress(value=0.0, bar_style='info', description='Progress:', layout=Layout(height='25px', width='50%'),…"
      ]
     },
     "metadata": {},
     "output_type": "display_data"
    },
    {
     "name": "stdout",
     "output_type": "stream",
     "text": [
      "['atm_lat', 'atm_lon', 'atm_number', 'atm_manufacturer', 'atm_location', 'atm_streetname', 'atm_street_number', 'atm_zipcode', 'location_id']"
     ]
    }
   ],
   "source": [
    "atm.columns"
   ]
  },
  {
   "cell_type": "code",
   "execution_count": 21,
   "id": "e2a31174-e08d-461d-83a7-e90654aea301",
   "metadata": {
    "execution": {
     "iopub.execute_input": "2022-12-12T14:24:17.959074Z",
     "iopub.status.busy": "2022-12-12T14:24:17.956694Z",
     "iopub.status.idle": "2022-12-12T14:24:18.719771Z",
     "shell.execute_reply": "2022-12-12T14:24:18.637745Z",
     "shell.execute_reply.started": "2022-12-12T14:24:17.959030Z"
    },
    "tags": []
   },
   "outputs": [
    {
     "data": {
      "application/vnd.jupyter.widget-view+json": {
       "model_id": "e44b600303f24ecaba24367803092256",
       "version_major": 2,
       "version_minor": 0
      },
      "text/plain": [
       "VBox()"
      ]
     },
     "metadata": {},
     "output_type": "display_data"
    },
    {
     "data": {
      "application/vnd.jupyter.widget-view+json": {
       "model_id": "",
       "version_major": 2,
       "version_minor": 0
      },
      "text/plain": [
       "FloatProgress(value=0.0, bar_style='info', description='Progress:', layout=Layout(height='25px', width='50%'),…"
      ]
     },
     "metadata": {},
     "output_type": "display_data"
    }
   ],
   "source": [
    "# selecting the required columns and making sure records are distinct\n",
    "atm = atm.select('atm_number', 'atm_manufacturer', 'location_id').distinct()"
   ]
  },
  {
   "cell_type": "code",
   "execution_count": 22,
   "id": "843431c5-e99b-455e-b75f-aacb74538565",
   "metadata": {
    "execution": {
     "iopub.execute_input": "2022-12-12T14:24:18.721062Z",
     "iopub.status.busy": "2022-12-12T14:24:18.720810Z",
     "iopub.status.idle": "2022-12-12T14:24:31.871373Z",
     "shell.execute_reply": "2022-12-12T14:24:31.870460Z",
     "shell.execute_reply.started": "2022-12-12T14:24:18.721038Z"
    },
    "tags": []
   },
   "outputs": [
    {
     "data": {
      "application/vnd.jupyter.widget-view+json": {
       "model_id": "77219a5e6eed44519adb39c350f71bfe",
       "version_major": 2,
       "version_minor": 0
      },
      "text/plain": [
       "VBox()"
      ]
     },
     "metadata": {},
     "output_type": "display_data"
    },
    {
     "data": {
      "application/vnd.jupyter.widget-view+json": {
       "model_id": "",
       "version_major": 2,
       "version_minor": 0
      },
      "text/plain": [
       "FloatProgress(value=0.0, bar_style='info', description='Progress:', layout=Layout(height='25px', width='50%'),…"
      ]
     },
     "metadata": {},
     "output_type": "display_data"
    },
    {
     "name": "stdout",
     "output_type": "stream",
     "text": [
      "+----------+----------------+---------------+------+\n",
      "|atm_number|atm_manufacturer|atm_location_id|atm_id|\n",
      "+----------+----------------+---------------+------+\n",
      "|        53|             NCR|             28|     0|\n",
      "|        30|             NCR|             57|     1|\n",
      "|        36|             NCR|             61|     2|\n",
      "|        40| Diebold Nixdorf|             86|     3|\n",
      "|        66|             NCR|             20|     4|\n",
      "+----------+----------------+---------------+------+\n",
      "only showing top 5 rows"
     ]
    }
   ],
   "source": [
    "# renaming the colums as per requirement\n",
    "atm = atm.withColumnRenamed('location_id', 'atm_location_id')\n",
    "atm.columns\n",
    "\n",
    "# creating the primary key column\n",
    "df_temp = atm.rdd.zipWithIndex().toDF()\n",
    "dim_atm = df_temp.select(col(\"_1.*\"),col(\"_2\").alias('atm_id'))\n",
    "dim_atm.show(5)"
   ]
  },
  {
   "cell_type": "code",
   "execution_count": 23,
   "id": "d079d287-d38c-4ef8-b059-7964aebeeb92",
   "metadata": {
    "execution": {
     "iopub.execute_input": "2022-12-12T14:24:31.874515Z",
     "iopub.status.busy": "2022-12-12T14:24:31.874245Z",
     "iopub.status.idle": "2022-12-12T14:24:32.051208Z",
     "shell.execute_reply": "2022-12-12T14:24:32.049057Z",
     "shell.execute_reply.started": "2022-12-12T14:24:31.874487Z"
    },
    "tags": []
   },
   "outputs": [
    {
     "data": {
      "application/vnd.jupyter.widget-view+json": {
       "model_id": "47c06d50ce35444da31082a8d3410e8b",
       "version_major": 2,
       "version_minor": 0
      },
      "text/plain": [
       "VBox()"
      ]
     },
     "metadata": {},
     "output_type": "display_data"
    },
    {
     "data": {
      "application/vnd.jupyter.widget-view+json": {
       "model_id": "",
       "version_major": 2,
       "version_minor": 0
      },
      "text/plain": [
       "FloatProgress(value=0.0, bar_style='info', description='Progress:', layout=Layout(height='25px', width='50%'),…"
      ]
     },
     "metadata": {},
     "output_type": "display_data"
    }
   ],
   "source": [
    "# rearranging the columns according to the target model\n",
    "DIM_ATM = dim_atm.select('atm_id', 'atm_number', 'atm_manufacturer', 'atm_location_id')"
   ]
  },
  {
   "cell_type": "code",
   "execution_count": 24,
   "id": "2b5760c4-2e10-47da-87d0-6c922cb97e60",
   "metadata": {
    "execution": {
     "iopub.execute_input": "2022-12-12T14:24:32.115116Z",
     "iopub.status.busy": "2022-12-12T14:24:32.064060Z",
     "iopub.status.idle": "2022-12-12T14:24:32.440391Z",
     "shell.execute_reply": "2022-12-12T14:24:32.439410Z",
     "shell.execute_reply.started": "2022-12-12T14:24:32.115069Z"
    },
    "tags": []
   },
   "outputs": [
    {
     "data": {
      "application/vnd.jupyter.widget-view+json": {
       "model_id": "eca0d6d083d5484fae7caae0dcbfae8f",
       "version_major": 2,
       "version_minor": 0
      },
      "text/plain": [
       "VBox()"
      ]
     },
     "metadata": {},
     "output_type": "display_data"
    },
    {
     "data": {
      "application/vnd.jupyter.widget-view+json": {
       "model_id": "",
       "version_major": 2,
       "version_minor": 0
      },
      "text/plain": [
       "FloatProgress(value=0.0, bar_style='info', description='Progress:', layout=Layout(height='25px', width='50%'),…"
      ]
     },
     "metadata": {},
     "output_type": "display_data"
    },
    {
     "name": "stdout",
     "output_type": "stream",
     "text": [
      "['atm_id', 'atm_number', 'atm_manufacturer', 'atm_location_id']"
     ]
    }
   ],
   "source": [
    "DIM_ATM.columns"
   ]
  },
  {
   "cell_type": "code",
   "execution_count": 25,
   "id": "b229e4b0-e451-42bf-9075-0414ef2729ea",
   "metadata": {
    "execution": {
     "iopub.execute_input": "2022-12-12T14:24:32.446167Z",
     "iopub.status.busy": "2022-12-12T14:24:32.445770Z",
     "iopub.status.idle": "2022-12-12T14:24:34.038155Z",
     "shell.execute_reply": "2022-12-12T14:24:34.037375Z",
     "shell.execute_reply.started": "2022-12-12T14:24:32.446126Z"
    },
    "tags": []
   },
   "outputs": [
    {
     "data": {
      "application/vnd.jupyter.widget-view+json": {
       "model_id": "e6c45da71e104169813df24e7b17cefd",
       "version_major": 2,
       "version_minor": 0
      },
      "text/plain": [
       "VBox()"
      ]
     },
     "metadata": {},
     "output_type": "display_data"
    },
    {
     "data": {
      "application/vnd.jupyter.widget-view+json": {
       "model_id": "",
       "version_major": 2,
       "version_minor": 0
      },
      "text/plain": [
       "FloatProgress(value=0.0, bar_style='info', description='Progress:', layout=Layout(height='25px', width='50%'),…"
      ]
     },
     "metadata": {},
     "output_type": "display_data"
    },
    {
     "name": "stdout",
     "output_type": "stream",
     "text": [
      "156"
     ]
    }
   ],
   "source": [
    "DIM_ATM.select('*').count()"
   ]
  },
  {
   "cell_type": "markdown",
   "id": "060cac1b-51c1-4eda-8bf0-179eacb3c1bc",
   "metadata": {},
   "source": [
    "#### Creating a dataframe for Date Dimension according to Target Dimension Model"
   ]
  },
  {
   "cell_type": "code",
   "execution_count": 26,
   "id": "608ac9bb-1dbc-4ea9-a5aa-9fccda64bff5",
   "metadata": {
    "execution": {
     "iopub.execute_input": "2022-12-12T14:24:34.114102Z",
     "iopub.status.busy": "2022-12-12T14:24:34.113211Z",
     "iopub.status.idle": "2022-12-12T14:24:36.124009Z",
     "shell.execute_reply": "2022-12-12T14:24:36.113097Z",
     "shell.execute_reply.started": "2022-12-12T14:24:34.114051Z"
    },
    "tags": []
   },
   "outputs": [
    {
     "data": {
      "application/vnd.jupyter.widget-view+json": {
       "model_id": "b737687480df465198fd3618f69313d7",
       "version_major": 2,
       "version_minor": 0
      },
      "text/plain": [
       "VBox()"
      ]
     },
     "metadata": {},
     "output_type": "display_data"
    },
    {
     "data": {
      "application/vnd.jupyter.widget-view+json": {
       "model_id": "",
       "version_major": 2,
       "version_minor": 0
      },
      "text/plain": [
       "FloatProgress(value=0.0, bar_style='info', description='Progress:', layout=Layout(height='25px', width='50%'),…"
      ]
     },
     "metadata": {},
     "output_type": "display_data"
    },
    {
     "name": "stdout",
     "output_type": "stream",
     "text": [
      "+----+-------+---+----+-------+--------------+---------+-------------------+\n",
      "|year|month  |day|hour|weekday|full_date     |full_time|full_date_time     |\n",
      "+----+-------+---+----+-------+--------------+---------+-------------------+\n",
      "|2017|January|1  |0   |Sunday |2017-January-1|0:00:00  |2017-01-01 00:00:00|\n",
      "|2017|January|1  |0   |Sunday |2017-January-1|0:00:00  |2017-01-01 00:00:00|\n",
      "|2017|January|1  |0   |Sunday |2017-January-1|0:00:00  |2017-01-01 00:00:00|\n",
      "|2017|January|1  |0   |Sunday |2017-January-1|0:00:00  |2017-01-01 00:00:00|\n",
      "|2017|January|1  |0   |Sunday |2017-January-1|0:00:00  |2017-01-01 00:00:00|\n",
      "+----+-------+---+----+-------+--------------+---------+-------------------+\n",
      "only showing top 5 rows"
     ]
    }
   ],
   "source": [
    "# creating a temporary df and selecting required columns\n",
    "date = df.select('year', 'month', 'day', 'hour', 'weekday')\n",
    "date = date.withColumn('full_date', concat_ws('-', date.year, date.month, date.day))\n",
    "date = date.withColumn('full_time', concat_ws(':', date.hour, lit('00'), lit('00')))\n",
    "date = date.withColumn('full_date_time', concat_ws(' ', date.full_date, date.full_time))\n",
    "pattern = 'yyyy-MMM-dd HH:mm:ss'\n",
    "date = date.withColumn('full_date_time', unix_timestamp(date.full_date_time, pattern).cast('timestamp'))\n",
    "date.show(5, truncate = False)"
   ]
  },
  {
   "cell_type": "code",
   "execution_count": 27,
   "id": "902560e4-3781-4305-91b7-c3e0dc655ff3",
   "metadata": {
    "execution": {
     "iopub.execute_input": "2022-12-12T14:24:36.135634Z",
     "iopub.status.busy": "2022-12-12T14:24:36.135343Z",
     "iopub.status.idle": "2022-12-12T14:24:37.041495Z",
     "shell.execute_reply": "2022-12-12T14:24:37.026500Z",
     "shell.execute_reply.started": "2022-12-12T14:24:36.135608Z"
    },
    "tags": []
   },
   "outputs": [
    {
     "data": {
      "application/vnd.jupyter.widget-view+json": {
       "model_id": "2ee6ab31a4624ebca9eddcb5dff8ec6d",
       "version_major": 2,
       "version_minor": 0
      },
      "text/plain": [
       "VBox()"
      ]
     },
     "metadata": {},
     "output_type": "display_data"
    },
    {
     "data": {
      "application/vnd.jupyter.widget-view+json": {
       "model_id": "",
       "version_major": 2,
       "version_minor": 0
      },
      "text/plain": [
       "FloatProgress(value=0.0, bar_style='info', description='Progress:', layout=Layout(height='25px', width='50%'),…"
      ]
     },
     "metadata": {},
     "output_type": "display_data"
    }
   ],
   "source": [
    "# selecting the required columns and making sure records are distinct\n",
    "date = date.select('year', 'month', 'day', 'hour', 'weekday', 'full_date_time').distinct()"
   ]
  },
  {
   "cell_type": "code",
   "execution_count": 28,
   "id": "6e8f0099-0f41-4355-aa8f-7f77ed3203e3",
   "metadata": {
    "execution": {
     "iopub.execute_input": "2022-12-12T14:24:37.119521Z",
     "iopub.status.busy": "2022-12-12T14:24:37.118982Z",
     "iopub.status.idle": "2022-12-12T14:25:04.646390Z",
     "shell.execute_reply": "2022-12-12T14:25:04.645240Z",
     "shell.execute_reply.started": "2022-12-12T14:24:37.119445Z"
    },
    "tags": []
   },
   "outputs": [
    {
     "data": {
      "application/vnd.jupyter.widget-view+json": {
       "model_id": "8cd204a18c4a4256b008df1eca995e6f",
       "version_major": 2,
       "version_minor": 0
      },
      "text/plain": [
       "VBox()"
      ]
     },
     "metadata": {},
     "output_type": "display_data"
    },
    {
     "data": {
      "application/vnd.jupyter.widget-view+json": {
       "model_id": "",
       "version_major": 2,
       "version_minor": 0
      },
      "text/plain": [
       "FloatProgress(value=0.0, bar_style='info', description='Progress:', layout=Layout(height='25px', width='50%'),…"
      ]
     },
     "metadata": {},
     "output_type": "display_data"
    },
    {
     "name": "stdout",
     "output_type": "stream",
     "text": [
      "+----+--------+---+----+--------+-------------------+-------+\n",
      "|year|   month|day|hour| weekday|     full_date_time|date_id|\n",
      "+----+--------+---+----+--------+-------------------+-------+\n",
      "|2017|February| 26|   8|  Sunday|2017-02-26 08:00:00|      0|\n",
      "|2017|   March| 14|   6| Tuesday|2017-03-14 06:00:00|      1|\n",
      "|2017|   March| 28|  12| Tuesday|2017-03-28 12:00:00|      2|\n",
      "|2017|   March| 12|  13|  Sunday|2017-03-12 13:00:00|      3|\n",
      "|2017|   March| 23|  23|Thursday|2017-03-23 23:00:00|      4|\n",
      "+----+--------+---+----+--------+-------------------+-------+\n",
      "only showing top 5 rows"
     ]
    }
   ],
   "source": [
    "# creating the primary key column\n",
    "df_temp = date.rdd.zipWithIndex().toDF()\n",
    "DIM_DATE = df_temp.select(col(\"_1.*\"),col(\"_2\").alias('date_id'))\n",
    "DIM_DATE.show(5)"
   ]
  },
  {
   "cell_type": "code",
   "execution_count": 29,
   "id": "499ad53f-c5bc-4c97-9edf-955ad20b1a62",
   "metadata": {
    "execution": {
     "iopub.execute_input": "2022-12-12T14:25:04.650813Z",
     "iopub.status.busy": "2022-12-12T14:25:04.650467Z",
     "iopub.status.idle": "2022-12-12T14:25:04.920393Z",
     "shell.execute_reply": "2022-12-12T14:25:04.919697Z",
     "shell.execute_reply.started": "2022-12-12T14:25:04.650782Z"
    },
    "tags": []
   },
   "outputs": [
    {
     "data": {
      "application/vnd.jupyter.widget-view+json": {
       "model_id": "5d72ea2e02334b67a43ad63e514d8a63",
       "version_major": 2,
       "version_minor": 0
      },
      "text/plain": [
       "VBox()"
      ]
     },
     "metadata": {},
     "output_type": "display_data"
    },
    {
     "data": {
      "application/vnd.jupyter.widget-view+json": {
       "model_id": "",
       "version_major": 2,
       "version_minor": 0
      },
      "text/plain": [
       "FloatProgress(value=0.0, bar_style='info', description='Progress:', layout=Layout(height='25px', width='50%'),…"
      ]
     },
     "metadata": {},
     "output_type": "display_data"
    },
    {
     "name": "stdout",
     "output_type": "stream",
     "text": [
      "['date_id', 'full_date_time', 'year', 'month', 'day', 'hour', 'weekday']"
     ]
    }
   ],
   "source": [
    "# rearranging the columns according to the target model\n",
    "DIM_DATE = DIM_DATE.select('date_id', 'full_date_time', 'year', 'month', 'day', 'hour', 'weekday')\n",
    "# checking that all required columns are present and named correctly\n",
    "DIM_DATE.columns"
   ]
  },
  {
   "cell_type": "code",
   "execution_count": 30,
   "id": "b988cf7e-44de-40c6-ac24-0d9aef28bc37",
   "metadata": {
    "execution": {
     "iopub.execute_input": "2022-12-12T14:25:04.922370Z",
     "iopub.status.busy": "2022-12-12T14:25:04.921710Z",
     "iopub.status.idle": "2022-12-12T14:25:05.402272Z",
     "shell.execute_reply": "2022-12-12T14:25:05.401245Z",
     "shell.execute_reply.started": "2022-12-12T14:25:04.922326Z"
    },
    "tags": []
   },
   "outputs": [
    {
     "data": {
      "application/vnd.jupyter.widget-view+json": {
       "model_id": "44f76cfcfa40418c9af3e1fe600ae670",
       "version_major": 2,
       "version_minor": 0
      },
      "text/plain": [
       "VBox()"
      ]
     },
     "metadata": {},
     "output_type": "display_data"
    },
    {
     "data": {
      "application/vnd.jupyter.widget-view+json": {
       "model_id": "",
       "version_major": 2,
       "version_minor": 0
      },
      "text/plain": [
       "FloatProgress(value=0.0, bar_style='info', description='Progress:', layout=Layout(height='25px', width='50%'),…"
      ]
     },
     "metadata": {},
     "output_type": "display_data"
    },
    {
     "name": "stdout",
     "output_type": "stream",
     "text": [
      "+--------------------+---+\n",
      "|                  _1| _2|\n",
      "+--------------------+---+\n",
      "|[2017, January, 6...|  0|\n",
      "+--------------------+---+\n",
      "only showing top 1 row"
     ]
    }
   ],
   "source": [
    "df_temp.show(1)"
   ]
  },
  {
   "cell_type": "code",
   "execution_count": 31,
   "id": "e0c4ba28-75bd-483e-bcb6-00948bd5519e",
   "metadata": {
    "execution": {
     "iopub.execute_input": "2022-12-12T14:25:05.404141Z",
     "iopub.status.busy": "2022-12-12T14:25:05.403575Z",
     "iopub.status.idle": "2022-12-12T14:25:06.914984Z",
     "shell.execute_reply": "2022-12-12T14:25:06.913967Z",
     "shell.execute_reply.started": "2022-12-12T14:25:05.404099Z"
    },
    "tags": []
   },
   "outputs": [
    {
     "data": {
      "application/vnd.jupyter.widget-view+json": {
       "model_id": "53467d815dae4e6aa80fbdcb201ae511",
       "version_major": 2,
       "version_minor": 0
      },
      "text/plain": [
       "VBox()"
      ]
     },
     "metadata": {},
     "output_type": "display_data"
    },
    {
     "data": {
      "application/vnd.jupyter.widget-view+json": {
       "model_id": "",
       "version_major": 2,
       "version_minor": 0
      },
      "text/plain": [
       "FloatProgress(value=0.0, bar_style='info', description='Progress:', layout=Layout(height='25px', width='50%'),…"
      ]
     },
     "metadata": {},
     "output_type": "display_data"
    },
    {
     "name": "stdout",
     "output_type": "stream",
     "text": [
      "8685"
     ]
    }
   ],
   "source": [
    "# validating the count of the dataframe\n",
    "DIM_DATE.select('*').count()"
   ]
  },
  {
   "cell_type": "markdown",
   "id": "6786fc7e-974d-47a8-a677-879972c59560",
   "metadata": {},
   "source": [
    "## Creating a dataframe for Card Type Dimension according to Target Dimension Model"
   ]
  },
  {
   "cell_type": "code",
   "execution_count": 32,
   "id": "2697a042-8a13-4c09-aa10-ec3f0f204abd",
   "metadata": {
    "execution": {
     "iopub.execute_input": "2022-12-12T14:25:06.917136Z",
     "iopub.status.busy": "2022-12-12T14:25:06.916439Z",
     "iopub.status.idle": "2022-12-12T14:25:13.817920Z",
     "shell.execute_reply": "2022-12-12T14:25:13.816904Z",
     "shell.execute_reply.started": "2022-12-12T14:25:06.917092Z"
    },
    "tags": []
   },
   "outputs": [
    {
     "data": {
      "application/vnd.jupyter.widget-view+json": {
       "model_id": "081b40ff254d4f6bac94986988a3b836",
       "version_major": 2,
       "version_minor": 0
      },
      "text/plain": [
       "VBox()"
      ]
     },
     "metadata": {},
     "output_type": "display_data"
    },
    {
     "data": {
      "application/vnd.jupyter.widget-view+json": {
       "model_id": "",
       "version_major": 2,
       "version_minor": 0
      },
      "text/plain": [
       "FloatProgress(value=0.0, bar_style='info', description='Progress:', layout=Layout(height='25px', width='50%'),…"
      ]
     },
     "metadata": {},
     "output_type": "display_data"
    },
    {
     "name": "stdout",
     "output_type": "stream",
     "text": [
      "+--------------------+------------+\n",
      "|           card_type|card_type_id|\n",
      "+--------------------+------------+\n",
      "|Visa Dankort - on-us|           0|\n",
      "|  Mastercard - on-us|           1|\n",
      "|         HÃƒÂ¦vekort|           2|\n",
      "|            VisaPlus|           3|\n",
      "|     Dankort - on-us|           4|\n",
      "+--------------------+------------+\n",
      "only showing top 5 rows"
     ]
    }
   ],
   "source": [
    "# creating a temporary df and selecting required columns and making sure records are distinct\n",
    "card_type = df.select('card_type').distinct()\n",
    "\n",
    "# creating the primary key column\n",
    "df_temp = card_type.rdd.zipWithIndex().toDF()\n",
    "DIM_CARD_TYPE = df_temp.select(col(\"_1.*\"),col(\"_2\").alias('card_type_id'))\n",
    "DIM_CARD_TYPE.show(5)"
   ]
  },
  {
   "cell_type": "code",
   "execution_count": 33,
   "id": "8836063a-f3f5-48bb-9aab-62b2fc18ed98",
   "metadata": {
    "execution": {
     "iopub.execute_input": "2022-12-12T14:25:13.819859Z",
     "iopub.status.busy": "2022-12-12T14:25:13.819248Z",
     "iopub.status.idle": "2022-12-12T14:25:15.119249Z",
     "shell.execute_reply": "2022-12-12T14:25:15.040931Z",
     "shell.execute_reply.started": "2022-12-12T14:25:13.819816Z"
    },
    "tags": []
   },
   "outputs": [
    {
     "data": {
      "application/vnd.jupyter.widget-view+json": {
       "model_id": "ba22e60bff2640c7818771fca1639d6d",
       "version_major": 2,
       "version_minor": 0
      },
      "text/plain": [
       "VBox()"
      ]
     },
     "metadata": {},
     "output_type": "display_data"
    },
    {
     "data": {
      "application/vnd.jupyter.widget-view+json": {
       "model_id": "",
       "version_major": 2,
       "version_minor": 0
      },
      "text/plain": [
       "FloatProgress(value=0.0, bar_style='info', description='Progress:', layout=Layout(height='25px', width='50%'),…"
      ]
     },
     "metadata": {},
     "output_type": "display_data"
    },
    {
     "name": "stdout",
     "output_type": "stream",
     "text": [
      "['card_type_id', 'card_type']"
     ]
    }
   ],
   "source": [
    "# rearranging the columns according to the target model\n",
    "DIM_CARD_TYPE = DIM_CARD_TYPE.select('card_type_id', 'card_type')\n",
    "\n",
    "# checking that all required columns are present and named correctly\n",
    "DIM_CARD_TYPE.columns"
   ]
  },
  {
   "cell_type": "code",
   "execution_count": 34,
   "id": "90390389-a498-475b-9f0b-32ef3d7cbd77",
   "metadata": {
    "execution": {
     "iopub.execute_input": "2022-12-12T14:25:15.120948Z",
     "iopub.status.busy": "2022-12-12T14:25:15.120568Z",
     "iopub.status.idle": "2022-12-12T14:25:16.528169Z",
     "shell.execute_reply": "2022-12-12T14:25:16.526956Z",
     "shell.execute_reply.started": "2022-12-12T14:25:15.120906Z"
    },
    "tags": []
   },
   "outputs": [
    {
     "data": {
      "application/vnd.jupyter.widget-view+json": {
       "model_id": "f64e8cddceb34a66b964e6876dc20605",
       "version_major": 2,
       "version_minor": 0
      },
      "text/plain": [
       "VBox()"
      ]
     },
     "metadata": {},
     "output_type": "display_data"
    },
    {
     "data": {
      "application/vnd.jupyter.widget-view+json": {
       "model_id": "",
       "version_major": 2,
       "version_minor": 0
      },
      "text/plain": [
       "FloatProgress(value=0.0, bar_style='info', description='Progress:', layout=Layout(height='25px', width='50%'),…"
      ]
     },
     "metadata": {},
     "output_type": "display_data"
    },
    {
     "name": "stdout",
     "output_type": "stream",
     "text": [
      "12"
     ]
    }
   ],
   "source": [
    "# validating the count of the dataframe\n",
    "DIM_CARD_TYPE.select('*').count()"
   ]
  },
  {
   "cell_type": "markdown",
   "id": "ddc609d5-ae3c-4758-86a6-45c2c411f1bd",
   "metadata": {},
   "source": [
    "## Creating the Transaction Fact Table according to Target Model"
   ]
  },
  {
   "cell_type": "code",
   "execution_count": 35,
   "id": "9e65af7b-08c8-46d3-8770-316e93ebfde3",
   "metadata": {
    "execution": {
     "iopub.execute_input": "2022-12-12T14:25:16.530855Z",
     "iopub.status.busy": "2022-12-12T14:25:16.529423Z",
     "iopub.status.idle": "2022-12-12T14:25:17.218038Z",
     "shell.execute_reply": "2022-12-12T14:25:17.216978Z",
     "shell.execute_reply.started": "2022-12-12T14:25:16.530815Z"
    },
    "tags": []
   },
   "outputs": [
    {
     "data": {
      "application/vnd.jupyter.widget-view+json": {
       "model_id": "6c045a5ce0694b76adbfe2b9dd461dd1",
       "version_major": 2,
       "version_minor": 0
      },
      "text/plain": [
       "VBox()"
      ]
     },
     "metadata": {},
     "output_type": "display_data"
    },
    {
     "data": {
      "application/vnd.jupyter.widget-view+json": {
       "model_id": "",
       "version_major": 2,
       "version_minor": 0
      },
      "text/plain": [
       "FloatProgress(value=0.0, bar_style='info', description='Progress:', layout=Layout(height='25px', width='50%'),…"
      ]
     },
     "metadata": {},
     "output_type": "display_data"
    }
   ],
   "source": [
    "# renaming the colums as per requirement\n",
    "fact_loc = df.withColumnRenamed('atm_location','location').withColumnRenamed('atm_streetname','streetname').withColumnRenamed('atm_street_number','street_number').withColumnRenamed('atm_zipcode','zipcode').withColumnRenamed('atm_lat','lat').withColumnRenamed('atm_lon','lon')"
   ]
  },
  {
   "cell_type": "code",
   "execution_count": 36,
   "id": "15b577fb-ced5-4183-a4c4-c1af915a5950",
   "metadata": {
    "execution": {
     "iopub.execute_input": "2022-12-12T14:25:17.222767Z",
     "iopub.status.busy": "2022-12-12T14:25:17.219577Z",
     "iopub.status.idle": "2022-12-12T14:25:18.414841Z",
     "shell.execute_reply": "2022-12-12T14:25:18.339857Z",
     "shell.execute_reply.started": "2022-12-12T14:25:17.222726Z"
    },
    "tags": []
   },
   "outputs": [
    {
     "data": {
      "application/vnd.jupyter.widget-view+json": {
       "model_id": "11d74dd464124dd486a5db12dc935af0",
       "version_major": 2,
       "version_minor": 0
      },
      "text/plain": [
       "VBox()"
      ]
     },
     "metadata": {},
     "output_type": "display_data"
    },
    {
     "data": {
      "application/vnd.jupyter.widget-view+json": {
       "model_id": "",
       "version_major": 2,
       "version_minor": 0
      },
      "text/plain": [
       "FloatProgress(value=0.0, bar_style='info', description='Progress:', layout=Layout(height='25px', width='50%'),…"
      ]
     },
     "metadata": {},
     "output_type": "display_data"
    }
   ],
   "source": [
    "# joining the dfs\n",
    "fact_loc = fact_loc.join(DIM_LOCATION, on = ['location', 'streetname', 'street_number', 'zipcode', 'lat', 'lon'], how = \"left\")"
   ]
  },
  {
   "cell_type": "code",
   "execution_count": 37,
   "id": "b8d19531-c1e9-4388-8d73-8a6f69c92626",
   "metadata": {
    "execution": {
     "iopub.execute_input": "2022-12-12T14:25:18.415967Z",
     "iopub.status.busy": "2022-12-12T14:25:18.415717Z",
     "iopub.status.idle": "2022-12-12T14:25:19.416285Z",
     "shell.execute_reply": "2022-12-12T14:25:19.415287Z",
     "shell.execute_reply.started": "2022-12-12T14:25:18.415943Z"
    },
    "tags": []
   },
   "outputs": [
    {
     "data": {
      "application/vnd.jupyter.widget-view+json": {
       "model_id": "2e021227d04c48bc8e46d847a30a100c",
       "version_major": 2,
       "version_minor": 0
      },
      "text/plain": [
       "VBox()"
      ]
     },
     "metadata": {},
     "output_type": "display_data"
    },
    {
     "data": {
      "application/vnd.jupyter.widget-view+json": {
       "model_id": "",
       "version_major": 2,
       "version_minor": 0
      },
      "text/plain": [
       "FloatProgress(value=0.0, bar_style='info', description='Progress:', layout=Layout(height='25px', width='50%'),…"
      ]
     },
     "metadata": {},
     "output_type": "display_data"
    },
    {
     "name": "stdout",
     "output_type": "stream",
     "text": [
      "['location', 'streetname', 'street_number', 'zipcode', 'lat', 'lon', 'year', 'month', 'day', 'weekday', 'hour', 'atm_status', 'atm_id', 'atm_manufacturer', 'currency', 'card_type', 'transaction_amount', 'service', 'message_code', 'message_text', 'weather_lat', 'weather_lon', 'weather_city_id', 'weather_city_name', 'temp', 'pressure', 'humidity', 'wind_speed', 'wind_deg', 'rain_3h', 'clouds_all', 'weather_id', 'weather_main', 'weather_description', 'location_id']"
     ]
    }
   ],
   "source": [
    "# viewing the columns\n",
    "fact_loc.columns"
   ]
  },
  {
   "cell_type": "code",
   "execution_count": 38,
   "id": "f29ab895-66fa-463c-844d-2ab00b73d7e7",
   "metadata": {
    "execution": {
     "iopub.execute_input": "2022-12-12T14:25:19.417735Z",
     "iopub.status.busy": "2022-12-12T14:25:19.417392Z",
     "iopub.status.idle": "2022-12-12T14:25:31.560961Z",
     "shell.execute_reply": "2022-12-12T14:25:31.559848Z",
     "shell.execute_reply.started": "2022-12-12T14:25:19.417697Z"
    },
    "tags": []
   },
   "outputs": [
    {
     "data": {
      "application/vnd.jupyter.widget-view+json": {
       "model_id": "312cecff9952440fb78401010985940e",
       "version_major": 2,
       "version_minor": 0
      },
      "text/plain": [
       "VBox()"
      ]
     },
     "metadata": {},
     "output_type": "display_data"
    },
    {
     "data": {
      "application/vnd.jupyter.widget-view+json": {
       "model_id": "",
       "version_major": 2,
       "version_minor": 0
      },
      "text/plain": [
       "FloatProgress(value=0.0, bar_style='info', description='Progress:', layout=Layout(height='25px', width='50%'),…"
      ]
     },
     "metadata": {},
     "output_type": "display_data"
    },
    {
     "name": "stdout",
     "output_type": "stream",
     "text": [
      "2468572"
     ]
    }
   ],
   "source": [
    "# Validating the count of the df at the end of Stage 1\n",
    "fact_loc.select('*').count()"
   ]
  },
  {
   "cell_type": "code",
   "execution_count": 39,
   "id": "42deea47-7094-43f3-b5c0-5e9a26387ab3",
   "metadata": {
    "execution": {
     "iopub.execute_input": "2022-12-12T14:25:31.564680Z",
     "iopub.status.busy": "2022-12-12T14:25:31.564428Z",
     "iopub.status.idle": "2022-12-12T14:25:44.060212Z",
     "shell.execute_reply": "2022-12-12T14:25:44.059488Z",
     "shell.execute_reply.started": "2022-12-12T14:25:31.564654Z"
    },
    "tags": []
   },
   "outputs": [
    {
     "data": {
      "application/vnd.jupyter.widget-view+json": {
       "model_id": "11fb9339ebdd45afa061b7a92e7a598a",
       "version_major": 2,
       "version_minor": 0
      },
      "text/plain": [
       "VBox()"
      ]
     },
     "metadata": {},
     "output_type": "display_data"
    },
    {
     "data": {
      "application/vnd.jupyter.widget-view+json": {
       "model_id": "",
       "version_major": 2,
       "version_minor": 0
      },
      "text/plain": [
       "FloatProgress(value=0.0, bar_style='info', description='Progress:', layout=Layout(height='25px', width='50%'),…"
      ]
     },
     "metadata": {},
     "output_type": "display_data"
    },
    {
     "name": "stdout",
     "output_type": "stream",
     "text": [
      "2468572"
     ]
    }
   ],
   "source": [
    "# Stage 2 of FACT_ATM_TRANS Table -> joining the dataframe with DIM_ATM\n",
    "# renaming the colums as per requirement\n",
    "fact_loc = fact_loc.withColumnRenamed('atm_id', 'atm_number').withColumnRenamed('location_id', 'atm_location_id')\n",
    "\n",
    "# joining the dfs\n",
    "fact_atm = fact_loc.join(DIM_ATM, on = ['atm_number', 'atm_manufacturer', 'atm_location_id'], how = \"left\")\n",
    "\n",
    "# performing necessary transformations, same as done to atm table\n",
    "fact_atm = fact_atm.withColumnRenamed('atm_location_id', 'weather_loc_id')\n",
    "\n",
    "# Validating the count of the df at the end of Stage 2\n",
    "fact_atm.select('*').count()"
   ]
  },
  {
   "cell_type": "code",
   "execution_count": 40,
   "id": "15346007-2fa6-4741-8bcc-7f37420f3662",
   "metadata": {
    "execution": {
     "iopub.execute_input": "2022-12-12T14:25:44.061951Z",
     "iopub.status.busy": "2022-12-12T14:25:44.061396Z",
     "iopub.status.idle": "2022-12-12T14:25:44.261406Z",
     "shell.execute_reply": "2022-12-12T14:25:44.260734Z",
     "shell.execute_reply.started": "2022-12-12T14:25:44.061911Z"
    },
    "tags": []
   },
   "outputs": [
    {
     "data": {
      "application/vnd.jupyter.widget-view+json": {
       "model_id": "4e74c9cf8c324987bef1ae0d4d9e646d",
       "version_major": 2,
       "version_minor": 0
      },
      "text/plain": [
       "VBox()"
      ]
     },
     "metadata": {},
     "output_type": "display_data"
    },
    {
     "data": {
      "application/vnd.jupyter.widget-view+json": {
       "model_id": "",
       "version_major": 2,
       "version_minor": 0
      },
      "text/plain": [
       "FloatProgress(value=0.0, bar_style='info', description='Progress:', layout=Layout(height='25px', width='50%'),…"
      ]
     },
     "metadata": {},
     "output_type": "display_data"
    }
   ],
   "source": [
    "# joining the dfs\n",
    "fact_date = fact_atm.join(DIM_DATE, on = ['year', 'month', 'day', 'hour', 'weekday'], how = \"left\")"
   ]
  },
  {
   "cell_type": "code",
   "execution_count": 41,
   "id": "86c9121c-3b5d-4b4d-859a-dc70b979bfd2",
   "metadata": {
    "execution": {
     "iopub.execute_input": "2022-12-12T14:25:44.266684Z",
     "iopub.status.busy": "2022-12-12T14:25:44.262777Z",
     "iopub.status.idle": "2022-12-12T14:26:02.829415Z",
     "shell.execute_reply": "2022-12-12T14:26:02.828093Z",
     "shell.execute_reply.started": "2022-12-12T14:25:44.266645Z"
    },
    "tags": []
   },
   "outputs": [
    {
     "data": {
      "application/vnd.jupyter.widget-view+json": {
       "model_id": "9ed63f0a896c4c9a802f00d0763b7026",
       "version_major": 2,
       "version_minor": 0
      },
      "text/plain": [
       "VBox()"
      ]
     },
     "metadata": {},
     "output_type": "display_data"
    },
    {
     "data": {
      "application/vnd.jupyter.widget-view+json": {
       "model_id": "",
       "version_major": 2,
       "version_minor": 0
      },
      "text/plain": [
       "FloatProgress(value=0.0, bar_style='info', description='Progress:', layout=Layout(height='25px', width='50%'),…"
      ]
     },
     "metadata": {},
     "output_type": "display_data"
    },
    {
     "name": "stdout",
     "output_type": "stream",
     "text": [
      "2468572"
     ]
    }
   ],
   "source": [
    "# Validating the count of the df at the end of Stage 3\n",
    "fact_date.select('*').count()"
   ]
  },
  {
   "cell_type": "code",
   "execution_count": 42,
   "id": "a05d2746-a3f3-4644-9736-a365788f13b4",
   "metadata": {
    "execution": {
     "iopub.execute_input": "2022-12-12T14:26:02.831173Z",
     "iopub.status.busy": "2022-12-12T14:26:02.830797Z",
     "iopub.status.idle": "2022-12-12T14:26:21.624272Z",
     "shell.execute_reply": "2022-12-12T14:26:21.623345Z",
     "shell.execute_reply.started": "2022-12-12T14:26:02.831129Z"
    },
    "tags": []
   },
   "outputs": [
    {
     "data": {
      "application/vnd.jupyter.widget-view+json": {
       "model_id": "947c72ca89b2473c83b180cedd402a78",
       "version_major": 2,
       "version_minor": 0
      },
      "text/plain": [
       "VBox()"
      ]
     },
     "metadata": {},
     "output_type": "display_data"
    },
    {
     "data": {
      "application/vnd.jupyter.widget-view+json": {
       "model_id": "",
       "version_major": 2,
       "version_minor": 0
      },
      "text/plain": [
       "FloatProgress(value=0.0, bar_style='info', description='Progress:', layout=Layout(height='25px', width='50%'),…"
      ]
     },
     "metadata": {},
     "output_type": "display_data"
    },
    {
     "name": "stdout",
     "output_type": "stream",
     "text": [
      "2468572"
     ]
    }
   ],
   "source": [
    "# joining the dfs\n",
    "fact_atm_trans = fact_date.join(DIM_CARD_TYPE, on = ['card_type'], how = \"left\")\n",
    "# Validating the count of the df at the end of Stage 4\n",
    "fact_atm_trans.select('*').count()"
   ]
  },
  {
   "cell_type": "code",
   "execution_count": 43,
   "id": "f2a0f03a-2921-4ee1-914d-6ff13020ac69",
   "metadata": {
    "execution": {
     "iopub.execute_input": "2022-12-12T14:26:21.631938Z",
     "iopub.status.busy": "2022-12-12T14:26:21.629040Z",
     "iopub.status.idle": "2022-12-12T14:26:59.186986Z",
     "shell.execute_reply": "2022-12-12T14:26:59.186011Z",
     "shell.execute_reply.started": "2022-12-12T14:26:21.631887Z"
    },
    "tags": []
   },
   "outputs": [
    {
     "data": {
      "application/vnd.jupyter.widget-view+json": {
       "model_id": "059b0fbcd7d644f58a21f52e5603fe0b",
       "version_major": 2,
       "version_minor": 0
      },
      "text/plain": [
       "VBox()"
      ]
     },
     "metadata": {},
     "output_type": "display_data"
    },
    {
     "data": {
      "application/vnd.jupyter.widget-view+json": {
       "model_id": "",
       "version_major": 2,
       "version_minor": 0
      },
      "text/plain": [
       "FloatProgress(value=0.0, bar_style='info', description='Progress:', layout=Layout(height='25px', width='50%'),…"
      ]
     },
     "metadata": {},
     "output_type": "display_data"
    },
    {
     "name": "stdout",
     "output_type": "stream",
     "text": [
      "+----------+----+-------+---+----+-------+----------+----------------+--------------+--------------+-----------+-------------+-------+------+-----+----------+--------+------------------+----------+------------+------------+-----------+-----------+---------------+-----------------+-------+--------+--------+----------+--------+-------+----------+----------+------------+-------------------+------+-------+-------------------+------------+--------+\n",
      "| card_type|year|  month|day|hour|weekday|atm_number|atm_manufacturer|weather_loc_id|      location| streetname|street_number|zipcode|   lat|  lon|atm_status|currency|transaction_amount|   service|message_code|message_text|weather_lat|weather_lon|weather_city_id|weather_city_name|   temp|pressure|humidity|wind_speed|wind_deg|rain_3h|clouds_all|weather_id|weather_main|weather_description|atm_id|date_id|     full_date_time|card_type_id|trans_id|\n",
      "+----------+----+-------+---+----+-------+----------+----------------+--------------+--------------+-----------+-------------+-------+------+-----+----------+--------+------------------+----------+------------+------------+-----------+-----------+---------------+-----------------+-------+--------+--------+----------+--------+-------+----------+----------+------------+-------------------+------+-------+-------------------+------------+--------+\n",
      "|MasterCard|2017|January|  6|   8| Friday|        29|             NCR|             1|Skelagervej 15|Skelagervej|           15|   9000|57.023|9.891|  Inactive|     DKK|              4447|Withdrawal|        null|        null|     57.048|      9.919|        2624886|          Aalborg|267.563|    1050|      71|         5|     211|    0.0|        12|       801|      Clouds|         few clouds|   101|      0|2017-01-06 08:00:00|          10|       1|\n",
      "+----------+----+-------+---+----+-------+----------+----------------+--------------+--------------+-----------+-------------+-------+------+-----+----------+--------+------------------+----------+------------+------------+-----------+-----------+---------------+-----------------+-------+--------+--------+----------+--------+-------+----------+----------+------------+-------------------+------+-------+-------------------+------------+--------+\n",
      "only showing top 1 row"
     ]
    }
   ],
   "source": [
    "# creating primary key of fact table and viewing 1st record of the table\n",
    "from pyspark.sql.window import Window\n",
    "\n",
    "w = Window().orderBy('date_id')\n",
    "FACT_ATM_TRANS = fact_atm_trans.withColumn(\"trans_id\", row_number().over(w))\n",
    "FACT_ATM_TRANS.show(1, True)"
   ]
  },
  {
   "cell_type": "code",
   "execution_count": 44,
   "id": "1a45ecff-0214-4fd8-bff4-8d0621b7f313",
   "metadata": {
    "execution": {
     "iopub.execute_input": "2022-12-12T14:26:59.188616Z",
     "iopub.status.busy": "2022-12-12T14:26:59.188266Z",
     "iopub.status.idle": "2022-12-12T14:26:59.361364Z",
     "shell.execute_reply": "2022-12-12T14:26:59.360399Z",
     "shell.execute_reply.started": "2022-12-12T14:26:59.188577Z"
    },
    "tags": []
   },
   "outputs": [
    {
     "data": {
      "application/vnd.jupyter.widget-view+json": {
       "model_id": "ad2942f375ef4fd6a6061217dc978399",
       "version_major": 2,
       "version_minor": 0
      },
      "text/plain": [
       "VBox()"
      ]
     },
     "metadata": {},
     "output_type": "display_data"
    },
    {
     "data": {
      "application/vnd.jupyter.widget-view+json": {
       "model_id": "",
       "version_major": 2,
       "version_minor": 0
      },
      "text/plain": [
       "FloatProgress(value=0.0, bar_style='info', description='Progress:', layout=Layout(height='25px', width='50%'),…"
      ]
     },
     "metadata": {},
     "output_type": "display_data"
    },
    {
     "name": "stdout",
     "output_type": "stream",
     "text": [
      "['card_type', 'year', 'month', 'day', 'hour', 'weekday', 'atm_number', 'atm_manufacturer', 'weather_loc_id', 'location', 'streetname', 'street_number', 'zipcode', 'lat', 'lon', 'atm_status', 'currency', 'transaction_amount', 'service', 'message_code', 'message_text', 'weather_lat', 'weather_lon', 'weather_city_id', 'weather_city_name', 'temp', 'pressure', 'humidity', 'wind_speed', 'wind_deg', 'rain_3h', 'clouds_all', 'weather_id', 'weather_main', 'weather_description', 'atm_id', 'date_id', 'full_date_time', 'card_type_id', 'trans_id']"
     ]
    }
   ],
   "source": [
    "# viewing the list of columns\n",
    "FACT_ATM_TRANS.columns"
   ]
  },
  {
   "cell_type": "code",
   "execution_count": 45,
   "id": "5a33aeb3-9e03-440d-889c-9796cbb3b7cd",
   "metadata": {
    "execution": {
     "iopub.execute_input": "2022-12-12T14:26:59.364197Z",
     "iopub.status.busy": "2022-12-12T14:26:59.363747Z",
     "iopub.status.idle": "2022-12-12T14:26:59.647905Z",
     "shell.execute_reply": "2022-12-12T14:26:59.646959Z",
     "shell.execute_reply.started": "2022-12-12T14:26:59.364168Z"
    },
    "tags": []
   },
   "outputs": [
    {
     "data": {
      "application/vnd.jupyter.widget-view+json": {
       "model_id": "8645fb63ce274550be7ae0132ce47b68",
       "version_major": 2,
       "version_minor": 0
      },
      "text/plain": [
       "VBox()"
      ]
     },
     "metadata": {},
     "output_type": "display_data"
    },
    {
     "data": {
      "application/vnd.jupyter.widget-view+json": {
       "model_id": "",
       "version_major": 2,
       "version_minor": 0
      },
      "text/plain": [
       "FloatProgress(value=0.0, bar_style='info', description='Progress:', layout=Layout(height='25px', width='50%'),…"
      ]
     },
     "metadata": {},
     "output_type": "display_data"
    },
    {
     "name": "stdout",
     "output_type": "stream",
     "text": [
      "['trans_id', 'atm_id', 'weather_loc_id', 'date_id', 'card_type_id', 'atm_status', 'currency', 'service', 'transaction_amount', 'message_code', 'message_text', 'rain_3h', 'clouds_all', 'weather_id', 'weather_main', 'weather_description']"
     ]
    }
   ],
   "source": [
    "# selecting and arranging only the required columns according to the target model\n",
    "FACT_ATM_TRANS = FACT_ATM_TRANS.select('trans_id', 'atm_id', 'weather_loc_id', 'date_id', 'card_type_id', \n",
    "'atm_status', 'currency', 'service', 'transaction_amount', 'message_code', 'message_text', 'rain_3h', \n",
    "'clouds_all', 'weather_id', 'weather_main', 'weather_description')\n",
    "\n",
    "FACT_ATM_TRANS.columns"
   ]
  },
  {
   "cell_type": "code",
   "execution_count": 46,
   "id": "666a7a92-2ad5-4be9-bfaf-355661628845",
   "metadata": {
    "execution": {
     "iopub.execute_input": "2022-12-12T14:26:59.650223Z",
     "iopub.status.busy": "2022-12-12T14:26:59.649392Z",
     "iopub.status.idle": "2022-12-12T14:27:16.023640Z",
     "shell.execute_reply": "2022-12-12T14:27:16.022665Z",
     "shell.execute_reply.started": "2022-12-12T14:26:59.650182Z"
    },
    "tags": []
   },
   "outputs": [
    {
     "data": {
      "application/vnd.jupyter.widget-view+json": {
       "model_id": "f89f009930f548f79f53c3644079b148",
       "version_major": 2,
       "version_minor": 0
      },
      "text/plain": [
       "VBox()"
      ]
     },
     "metadata": {},
     "output_type": "display_data"
    },
    {
     "data": {
      "application/vnd.jupyter.widget-view+json": {
       "model_id": "",
       "version_major": 2,
       "version_minor": 0
      },
      "text/plain": [
       "FloatProgress(value=0.0, bar_style='info', description='Progress:', layout=Layout(height='25px', width='50%'),…"
      ]
     },
     "metadata": {},
     "output_type": "display_data"
    },
    {
     "name": "stdout",
     "output_type": "stream",
     "text": [
      "2468572"
     ]
    }
   ],
   "source": [
    "FACT_ATM_TRANS.select('*').count()"
   ]
  },
  {
   "cell_type": "markdown",
   "id": "a5f2607d-b291-458c-88a8-1129e132e983",
   "metadata": {},
   "source": [
    "# Now we will save these PySpark Dataframes to AWS S3 Storage in csv format"
   ]
  },
  {
   "cell_type": "markdown",
   "id": "9298157d",
   "metadata": {},
   "source": [
    "#### We have created \"upgradetlhardikradhikaabhay\" bucket in S3, which we will use to store our all dataset."
   ]
  },
  {
   "cell_type": "code",
   "execution_count": 47,
   "id": "e0d08267-d22c-4fac-87bf-6d47139ddcd3",
   "metadata": {
    "execution": {
     "iopub.execute_input": "2022-12-12T14:27:16.025586Z",
     "iopub.status.busy": "2022-12-12T14:27:16.024948Z",
     "iopub.status.idle": "2022-12-12T14:27:24.457382Z",
     "shell.execute_reply": "2022-12-12T14:27:24.456511Z",
     "shell.execute_reply.started": "2022-12-12T14:27:16.025545Z"
    },
    "tags": []
   },
   "outputs": [
    {
     "data": {
      "application/vnd.jupyter.widget-view+json": {
       "model_id": "f76aa922b70d4361a42268a302e90aab",
       "version_major": 2,
       "version_minor": 0
      },
      "text/plain": [
       "VBox()"
      ]
     },
     "metadata": {},
     "output_type": "display_data"
    },
    {
     "data": {
      "application/vnd.jupyter.widget-view+json": {
       "model_id": "",
       "version_major": 2,
       "version_minor": 0
      },
      "text/plain": [
       "FloatProgress(value=0.0, bar_style='info', description='Progress:', layout=Layout(height='25px', width='50%'),…"
      ]
     },
     "metadata": {},
     "output_type": "display_data"
    }
   ],
   "source": [
    "# writing data from pyspark df 'dim_location' in csv format to dim_location folder in S3 bucket 'upgradetlhardikradhikaabhay'\n",
    "DIM_LOCATION.coalesce(1).write.format('csv').option('header','false').save('s3://upgradetlhardikradhikaabhay/dim_location', mode='overwrite')"
   ]
  },
  {
   "cell_type": "code",
   "execution_count": 48,
   "id": "eb14b478-3512-49fa-af4f-d8821f34bb71",
   "metadata": {
    "execution": {
     "iopub.execute_input": "2022-12-12T14:27:24.459872Z",
     "iopub.status.busy": "2022-12-12T14:27:24.458778Z",
     "iopub.status.idle": "2022-12-12T14:27:28.117706Z",
     "shell.execute_reply": "2022-12-12T14:27:28.116972Z",
     "shell.execute_reply.started": "2022-12-12T14:27:24.459828Z"
    },
    "tags": []
   },
   "outputs": [
    {
     "data": {
      "application/vnd.jupyter.widget-view+json": {
       "model_id": "8ebc0e5a2f7e4b91be0ad0bfb342cc34",
       "version_major": 2,
       "version_minor": 0
      },
      "text/plain": [
       "VBox()"
      ]
     },
     "metadata": {},
     "output_type": "display_data"
    },
    {
     "data": {
      "application/vnd.jupyter.widget-view+json": {
       "model_id": "",
       "version_major": 2,
       "version_minor": 0
      },
      "text/plain": [
       "FloatProgress(value=0.0, bar_style='info', description='Progress:', layout=Layout(height='25px', width='50%'),…"
      ]
     },
     "metadata": {},
     "output_type": "display_data"
    }
   ],
   "source": [
    "# writing data from pyspark df 'dim_atm' in csv format to dim_atm folder in S3 bucket 'upgradetlhardikradhikaabhay'\n",
    "DIM_ATM.coalesce(1).write.format('csv').option('header','false').save('s3://upgradetlhardikradhikaabhay/dim_atm', mode='overwrite')"
   ]
  },
  {
   "cell_type": "code",
   "execution_count": 49,
   "id": "972fc817-661c-4257-849e-ab0c033230fd",
   "metadata": {
    "execution": {
     "iopub.execute_input": "2022-12-12T14:27:28.119827Z",
     "iopub.status.busy": "2022-12-12T14:27:28.119007Z",
     "iopub.status.idle": "2022-12-12T14:27:30.926618Z",
     "shell.execute_reply": "2022-12-12T14:27:30.925292Z",
     "shell.execute_reply.started": "2022-12-12T14:27:28.119785Z"
    },
    "tags": []
   },
   "outputs": [
    {
     "data": {
      "application/vnd.jupyter.widget-view+json": {
       "model_id": "f4d9ad60548a4d65a98950e6aa77ade0",
       "version_major": 2,
       "version_minor": 0
      },
      "text/plain": [
       "VBox()"
      ]
     },
     "metadata": {},
     "output_type": "display_data"
    },
    {
     "data": {
      "application/vnd.jupyter.widget-view+json": {
       "model_id": "",
       "version_major": 2,
       "version_minor": 0
      },
      "text/plain": [
       "FloatProgress(value=0.0, bar_style='info', description='Progress:', layout=Layout(height='25px', width='50%'),…"
      ]
     },
     "metadata": {},
     "output_type": "display_data"
    }
   ],
   "source": [
    "# writing data from pyspark df 'dim_atm' in csv format to dim_atm folder in S3 bucket 'upgradetlhardikradhikaabhay'\n",
    "DIM_ATM.coalesce(1).write.format('csv').option('header','false').save('s3://upgradetlhardikradhikaabhay/dim_atm', mode='overwrite')"
   ]
  },
  {
   "cell_type": "code",
   "execution_count": 50,
   "id": "d363b274-3f9c-4974-a3e0-f7626dda0999",
   "metadata": {
    "execution": {
     "iopub.execute_input": "2022-12-12T14:27:30.928902Z",
     "iopub.status.busy": "2022-12-12T14:27:30.928244Z",
     "iopub.status.idle": "2022-12-12T14:27:34.314560Z",
     "shell.execute_reply": "2022-12-12T14:27:34.313313Z",
     "shell.execute_reply.started": "2022-12-12T14:27:30.928861Z"
    },
    "tags": []
   },
   "outputs": [
    {
     "data": {
      "application/vnd.jupyter.widget-view+json": {
       "model_id": "00d2054d0d6d41d985a09ddd1d3294e5",
       "version_major": 2,
       "version_minor": 0
      },
      "text/plain": [
       "VBox()"
      ]
     },
     "metadata": {},
     "output_type": "display_data"
    },
    {
     "data": {
      "application/vnd.jupyter.widget-view+json": {
       "model_id": "",
       "version_major": 2,
       "version_minor": 0
      },
      "text/plain": [
       "FloatProgress(value=0.0, bar_style='info', description='Progress:', layout=Layout(height='25px', width='50%'),…"
      ]
     },
     "metadata": {},
     "output_type": "display_data"
    }
   ],
   "source": [
    "# writing data from pyspark df 'dim_data' in csv format to dim_data folder in S3 bucket 'upgradetlhardikradhikaabhay'\n",
    "DIM_DATE.coalesce(1).write.format('csv').option('header','false').save('s3://upgradetlhardikradhikaabhay/dim_date', mode='overwrite')"
   ]
  },
  {
   "cell_type": "code",
   "execution_count": 51,
   "id": "3e004982-0813-451b-a486-76a5073c7662",
   "metadata": {
    "execution": {
     "iopub.execute_input": "2022-12-12T14:27:34.317112Z",
     "iopub.status.busy": "2022-12-12T14:27:34.315996Z",
     "iopub.status.idle": "2022-12-12T14:27:37.292391Z",
     "shell.execute_reply": "2022-12-12T14:27:37.290170Z",
     "shell.execute_reply.started": "2022-12-12T14:27:34.317069Z"
    },
    "tags": []
   },
   "outputs": [
    {
     "data": {
      "application/vnd.jupyter.widget-view+json": {
       "model_id": "21f00c9b6cbc436fb98f851695703894",
       "version_major": 2,
       "version_minor": 0
      },
      "text/plain": [
       "VBox()"
      ]
     },
     "metadata": {},
     "output_type": "display_data"
    },
    {
     "data": {
      "application/vnd.jupyter.widget-view+json": {
       "model_id": "",
       "version_major": 2,
       "version_minor": 0
      },
      "text/plain": [
       "FloatProgress(value=0.0, bar_style='info', description='Progress:', layout=Layout(height='25px', width='50%'),…"
      ]
     },
     "metadata": {},
     "output_type": "display_data"
    }
   ],
   "source": [
    "# writing data from pyspark df 'dim_card_type' in csv format to dim_card_type folder in S3 bucket 'upgradetlhardikradhikaabhay'\n",
    "DIM_CARD_TYPE.coalesce(1).write.format('csv').option('header','false').save('s3://upgradetlhardikradhikaabhay/dim_card_type', mode='overwrite')"
   ]
  },
  {
   "cell_type": "code",
   "execution_count": 52,
   "id": "009f2d07-2bbc-4183-bcdf-5698c6e4d884",
   "metadata": {
    "execution": {
     "iopub.execute_input": "2022-12-12T14:27:37.293728Z",
     "iopub.status.busy": "2022-12-12T14:27:37.293308Z",
     "iopub.status.idle": "2022-12-12T14:28:14.310237Z",
     "shell.execute_reply": "2022-12-12T14:28:14.309181Z",
     "shell.execute_reply.started": "2022-12-12T14:27:37.293699Z"
    },
    "tags": []
   },
   "outputs": [
    {
     "data": {
      "application/vnd.jupyter.widget-view+json": {
       "model_id": "832dd68e6ec240d7ad4bf611199ca98a",
       "version_major": 2,
       "version_minor": 0
      },
      "text/plain": [
       "VBox()"
      ]
     },
     "metadata": {},
     "output_type": "display_data"
    },
    {
     "data": {
      "application/vnd.jupyter.widget-view+json": {
       "model_id": "",
       "version_major": 2,
       "version_minor": 0
      },
      "text/plain": [
       "FloatProgress(value=0.0, bar_style='info', description='Progress:', layout=Layout(height='25px', width='50%'),…"
      ]
     },
     "metadata": {},
     "output_type": "display_data"
    }
   ],
   "source": [
    "# writing data from pyspark df 'fact_atm_trans' in csv format to fact_atm_trans folder in S3 bucket 'upgradetlhardikradhikaabhay'\n",
    "FACT_ATM_TRANS.coalesce(1).write.format('csv').option('header','false').save('s3://upgradetlhardikradhikaabhay/fact_atm_trans', mode='overwrite')"
   ]
  },
  {
   "attachments": {
    "image.png": {
     "image/png": "[encoded data removed]"
    }
   },
   "cell_type": "markdown",
   "id": "9f5ada3f",
   "metadata": {},
   "source": [
    "### Now all files are saved at S3 at \"upgradetlhardikradhikaabhay\" bucket.\n",
    "#### This location we will use further.\n",
    "\n",
    "\n",
    "![image.png](attachment:image.png)\n"
   ]
  }
 ],
 "metadata": {
  "kernelspec": {
   "display_name": "PySpark",
   "language": "",
   "name": "pysparkkernel"
  },
  "language_info": {
   "codemirror_mode": {
    "name": "python",
    "version": 2
   },
   "mimetype": "text/x-python",
   "name": "pyspark",
   "pygments_lexer": "python2"
  }
 },
 "nbformat": 4,
 "nbformat_minor": 5
}
